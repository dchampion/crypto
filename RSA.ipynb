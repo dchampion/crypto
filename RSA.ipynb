{
 "cells": [
  {
   "cell_type": "markdown",
   "id": "54bfb059",
   "metadata": {},
   "source": [
    "# A Demonstration of the RSA Cryptosystem\n",
    "\n",
    "The Rivest-Shamir-Adleman (*RSA*) cryptosystem demonstrated below combines secure key&ndash;exchange with digital signature to provide confidentiality, integrity and authentication in a message&ndash;exchange between two parties (Alice and Bob) over an insecure channel. A third party (Eve) eavesdropping on this channel has no practical way of learning the content of the message, nor any way of corrupting it without the receiving party knowing the message has been corrupted.\n",
    "\n",
    "The key&ndash;exchange component of this cryptosystem provides for message confidentiality, and utilizes a *key&ndash;encapsulation mechanism* (or *KEM*). This differs from the more traditional approach to key&ndash;exchange, based on the *discrete logarithm problem*, introduced by Diffie and Hellman in their 1976 paper [*New Directions in Cryptography*](https://ee.stanford.edu/~hellman/publications/24.pdf) (see the notebooks [*dh.ipynb*](https://nbviewer.org/github/dchampion/crypto/blob/master/doc/dh.ipynb) and [*ec.ipynb*](https://nbviewer.org/github/dchampion/crypto/blob/master/doc/ec.ipynb) for demonstrations of classic Diffie-Hellman and *elliptic&ndash;curve* Diffie-Hellman, respectively).\n",
    "\n",
    "Note that the *KEM* presented here lacks a property the Diffie-Hellman approaches do not, and which some might consider a disqualifying deficiency; this property is known as [*perfect forward secrecy*](https://en.wikipedia.org/wiki/Forward_secrecy).\n",
    "\n",
    "The digital signature component of this cryptosystem provides for message integrity and authentication, concepts that were also introduced by Diffie and Hellman in their 1976 paper. However, it was not until Rivest, Shamir and Adleman published their seminal 1978 paper [*A Method for Obtaining Digital Signatures and Public&ndash;Key Cryptosystems*](https://people.csail.mit.edu/rivest/Rsapaper.pdf) that a practical implementation of it was presented.\n",
    "\n",
    "## The Source Code\n",
    "The following sequence of function calls to the `rsa` module (located in the [/src](https://github.com/dchampion/crypto/tree/master/code/src) directory of this repository) illustrates a session in which Alice signs and encrypts a private message, and sends the message to Bob over an insecure channel. Meanwhile, an adversary&mdash;Eve&mdash;intercepts all the information exchanged between Alice and Bob on the insecure channel.\n",
    "\n",
    "It is assumed that Alice, Bob and Eve all possess their own copy of the `rsa` module; but that only Alice and Bob possess the signing and encryption keys produced by this module to provide the aforementioned protections.\n",
    "\n",
    "Values below surrounded in square brackets [ ] are public (i.e., they can be transmitted over the insecure channel with no compromise to the security of the system, even if they are observed by Eve), and those that are not in square brackets are private (i.e., they must *not* be transmitted over the insecure channel).\n",
    "\n",
    "Explanations of behavior appear *below* the code snippets and their outputs."
   ]
  },
  {
   "cell_type": "code",
   "execution_count": 1,
   "id": "74603aef",
   "metadata": {},
   "outputs": [],
   "source": [
    "import sys\n",
    "sys.path.append(\"../code/src\")\n",
    "import rsa\n",
    "sys.path.append(\"../code/test\")\n",
    "import sym"
   ]
  },
  {
   "cell_type": "markdown",
   "id": "842603d8",
   "metadata": {},
   "source": [
    "Import the `rsa` module, and a module `sym` that implements an elementary symmetric cipher that Alice and Bob will use in the protocol."
   ]
  },
  {
   "cell_type": "code",
   "execution_count": 2,
   "id": "8537dcec",
   "metadata": {},
   "outputs": [],
   "source": [
    "pA, qA, nA, d3A, d5A = rsa.generate_rsa_key(2048)"
   ]
  },
  {
   "cell_type": "markdown",
   "id": "8b33731b",
   "metadata": {},
   "source": [
    "The sequence begins with Alice generating her RSA key parameters. She does this by calling the `rsa.generate_rsa_key` function, passing it a modulus size of `2048` bits. The function returns the quintuple *pA*, *qA*, *[nA]*, *d3A* and *d5A* (the suffix *A* on all the parameters identify them as belonging to Alice). Alice transmits her public modulus *[nA]* to Bob.\n",
    "\n",
    "Alice must keep the values *pA* and *qA*&mdash;the 1024&ndash;bit prime factors of *[nA]*&mdash;secret. She must also keep *d3A* and *d5A*&mdash;her signing and decryption keys, respectively&mdash;secret.\n",
    "\n",
    "To get an idea of the size and proportions of these parameters, let's print some of them out."
   ]
  },
  {
   "cell_type": "code",
   "execution_count": 3,
   "id": "d285c70d-8e90-4a76-9eee-b8611fa2e44b",
   "metadata": {},
   "outputs": [
    {
     "name": "stdout",
     "output_type": "stream",
     "text": [
      "136102476381961305732571062080461432431708119460323889805542595525882202248655370101874800884206765272542156664821504409769362837971911245490301442353432199528373425186610371423342326417679816013159805699391060006043661980955949877268337934367366784340201654373423930623092779403703427477648729828451812542473\n"
     ]
    }
   ],
   "source": [
    "print(pA)"
   ]
  },
  {
   "cell_type": "code",
   "execution_count": 4,
   "id": "89735701-fab6-4f97-a1f5-4c27da1fafca",
   "metadata": {},
   "outputs": [
    {
     "name": "stdout",
     "output_type": "stream",
     "text": [
      "160727698891675335746018888588236050521851005958179352432320713359735099879517030756387346103592357033338496896486884725976723277056255341162886345019393435257067184869641373515853926981546255059037250064845357483609258468537791556893844504044414057571987180698953858361896193146381863930392751244153421939677\n"
     ]
    }
   ],
   "source": [
    "print(qA)"
   ]
  },
  {
   "cell_type": "code",
   "execution_count": 5,
   "id": "dd99c21f-e2a8-4453-b23a-7310e2156b76",
   "metadata": {},
   "outputs": [
    {
     "name": "stdout",
     "output_type": "stream",
     "text": [
      "21875437842331230719220303840312798739241346031430679388717673158003316750007145218277915064492868552596444177937718870300346896148906552004140473781581773855948711220399759761271803036244563274691159603246250228001503356178565874858311681140639185332420152320626990632718261095502395966707725839008481237873491031332087064355091489884160656417476447648802065950890713161856011519524773945597117505968821259670220528167912095210893299587198559087436747854420153910537387084789159238191362986438793202289345941545489474826458974585136656437757594465339278820808048858572212764154547559168355362537478128604604606401221\n"
     ]
    }
   ],
   "source": [
    "print(nA)"
   ]
  },
  {
   "cell_type": "markdown",
   "id": "679da888",
   "metadata": {},
   "source": [
    " Note that *[nA]*, which is the product of *pA* and *qA*, is twice the length of each individually; *pA*'s and *qA*'s ~310 decimal digits to *[nA]*'s ~620 decimal digits.\n",
    "\n",
    "Recall that Alice requested a modulus of 2048 bits in length in her call to `rsa.generate_rsa_key`. Next, let's print the bit lengths of *[nA]* and its prime factors."
   ]
  },
  {
   "cell_type": "code",
   "execution_count": 6,
   "id": "fc27b26c-1684-4348-9d39-b5166f711ec7",
   "metadata": {},
   "outputs": [
    {
     "name": "stdout",
     "output_type": "stream",
     "text": [
      "2048\n"
     ]
    }
   ],
   "source": [
    "print(nA.bit_length())"
   ]
  },
  {
   "cell_type": "code",
   "execution_count": 7,
   "id": "72ad6671-39de-4fb9-95b4-ea7a1fa53275",
   "metadata": {},
   "outputs": [
    {
     "name": "stdout",
     "output_type": "stream",
     "text": [
      "1024\n"
     ]
    }
   ],
   "source": [
    "print(pA.bit_length())"
   ]
  },
  {
   "cell_type": "code",
   "execution_count": 8,
   "id": "6c93ba61-9e62-4e6a-af4b-0d5a7be7703b",
   "metadata": {},
   "outputs": [
    {
     "name": "stdout",
     "output_type": "stream",
     "text": [
      "1024\n"
     ]
    }
   ],
   "source": [
    "print(qA.bit_length())"
   ]
  },
  {
   "cell_type": "markdown",
   "id": "ea7318a4",
   "metadata": {},
   "source": [
    "What we see is that a decimal number of ~620 digits equates to a bit&ndash;length of 2048, and further that a decimal number of ~310 digits is 1024 bits long.\n",
    "\n",
    "Next, let's check to see if *[nA]* is indeed the product of *pA* and *qA* (note this step is not necessary for the protocol; it is done here just for demonstration purposes)."
   ]
  },
  {
   "cell_type": "code",
   "execution_count": 9,
   "id": "41cc128c-cd29-44fd-be78-6406c9c2e771",
   "metadata": {},
   "outputs": [
    {
     "name": "stdout",
     "output_type": "stream",
     "text": [
      "True\n"
     ]
    }
   ],
   "source": [
    "print(qA * pA == nA)"
   ]
  },
  {
   "cell_type": "markdown",
   "id": "2d8903c0",
   "metadata": {},
   "source": [
    "Now it's Bob's turn to generate RSA keys of his own. To differentiate Bob's keys from Alice's keys, we append Bob's with the captial letter *B*."
   ]
  },
  {
   "cell_type": "code",
   "execution_count": 10,
   "id": "90b4d371-da20-455d-a245-dc78f3bf190e",
   "metadata": {},
   "outputs": [],
   "source": [
    "pB, qB, nB, d3B, d5B = rsa.generate_rsa_key(2048)"
   ]
  },
  {
   "cell_type": "markdown",
   "id": "11b60a44",
   "metadata": {},
   "source": [
    "Because Bob requested a modulus size of 2048, based on our inspection of Alice's keys above we can conclude that Bob's keys are the same size as Alice's keys; so we don't need to print their values here.\n",
    "\n",
    "Now that Alice and Bob have generated their keys, and transmitted to each other their public moduli *[nA]* and *[nB]*, they can proceed with the secure message exchange.\n",
    "\n",
    "Let's say Alice wants to send the following message securely to Bob."
   ]
  },
  {
   "cell_type": "code",
   "execution_count": 11,
   "id": "ea2adce8-c9d0-43e7-8201-589c6415bf07",
   "metadata": {},
   "outputs": [],
   "source": [
    "mA = \"Sign and encrypt me!\""
   ]
  },
  {
   "cell_type": "markdown",
   "id": "c48800f4",
   "metadata": {},
   "source": [
    "First, Alice stores the message \"Sign and encrypt me!\" in the variable `mA`."
   ]
  },
  {
   "cell_type": "code",
   "execution_count": 12,
   "id": "dd466c1d-509f-4a03-84e4-0c4fb8b9d313",
   "metadata": {},
   "outputs": [],
   "source": [
    "oA = rsa.sign(d3A, pA, qA, mA)"
   ]
  },
  {
   "cell_type": "markdown",
   "id": "22fe32a2",
   "metadata": {},
   "source": [
    "Then Alice calls the `rsa.sign` fuction, passing it her secret signing key *d3A*, the two factors of *[nA]*, *pA* and *qA*, and the message *mA*, to sign the message.\n",
    "\n",
    "She stores the signature in the variable *[oA]*`."
   ]
  },
  {
   "cell_type": "code",
   "execution_count": 13,
   "id": "460f7d8b",
   "metadata": {},
   "outputs": [],
   "source": [
    "KA, cA = rsa.encrypt_random_key(nB, rsa.ENCRYPTION_EXPONENT)"
   ]
  },
  {
   "cell_type": "markdown",
   "id": "b2d24aba",
   "metadata": {},
   "source": [
    "Next, Alice calls the `rsa.encrypt_random_key` function, passing it Bob's RSA modulus *[nB]* and the global encryption exponent *[rsa.ENCRYPTION_EXPONENT]*. This computes a session key that will be used to encrypt the private message using a symmetric cipher (e.g., 3DES, AES). The function returns the pair *KA* and *[cA]*, which are, respectively, the actual encryption key, and the ciphertext of its input material; the material Bob will use to replicate the same encryption key on his side of the channel.\n",
    "\n",
    "Alice must keep the session key *KA* private, but she transmits the ciphertext *[cA]* to Bob."
   ]
  },
  {
   "cell_type": "code",
   "execution_count": 14,
   "id": "ab63ee7e",
   "metadata": {},
   "outputs": [],
   "source": [
    "mAC = sym.encrypt(KA, mA)"
   ]
  },
  {
   "cell_type": "markdown",
   "id": "0a90aa03",
   "metadata": {},
   "source": [
    "Then Alice encrypts the private message calling the symmetric cipher function `sym.encrypt`, passing it her symmetric key *KA* and the plaintext of her message *mA* (note that in a real application, Alice and Bob would use an industrial&ndash;strength cipher (e.g., AES, 3DES) for message encryption).\n",
    "\n",
    "The result of this operation is the ciphertext *[mAC]*.\n",
    "\n",
    "Alice transmits the message signature *[oA]*, the message ciphertext *[mAC]* and the ciphertext of the symmetric&ndash;key's input material *[cA]* to Bob."
   ]
  },
  {
   "cell_type": "code",
   "execution_count": 15,
   "id": "f82ac5c1",
   "metadata": {},
   "outputs": [],
   "source": [
    "KB = rsa.decrypt_random_key(d5B, cA, pB, qB)"
   ]
  },
  {
   "cell_type": "markdown",
   "id": "600f96cf",
   "metadata": {},
   "source": [
    "In order to decrypt the message, Bob must reproduce the symmetric key Alice used to encrypt it. He does this by calling  `rsa.decrypt_random_key`, passing it his private decryption key *d5B*, the ciphertext of Alice's symmetric&ndash;key input material *[cA]*, and the two prime factors of his public modulus *pB* and *qB*."
   ]
  },
  {
   "cell_type": "code",
   "execution_count": 16,
   "id": "8ef4fba6",
   "metadata": {},
   "outputs": [
    {
     "name": "stdout",
     "output_type": "stream",
     "text": [
      "True\n"
     ]
    }
   ],
   "source": [
    "print(KB == KA)"
   ]
  },
  {
   "cell_type": "markdown",
   "id": "b80c6935",
   "metadata": {},
   "source": [
    "Here we make sure the key Bob decrypted above, *KB*, is the same as the key Alice encrypted, *KA* (again, this step is not required for the protocol; it is only used here to demonstrate that the keys are indeed equal)."
   ]
  },
  {
   "cell_type": "code",
   "execution_count": 17,
   "id": "392b6673",
   "metadata": {},
   "outputs": [],
   "source": [
    "mB = sym.decrypt(KB, mAC)"
   ]
  },
  {
   "cell_type": "markdown",
   "id": "b072394a",
   "metadata": {},
   "source": [
    "Bob calls `sym.decrypt`, passing it *KB* and the ciphertext of Alice's message *[mAC]*, to recover Alice's plaintext message *mA*.\n",
    "\n",
    "Bob stores the result in *mB*."
   ]
  },
  {
   "cell_type": "code",
   "execution_count": 18,
   "id": "70e9aa88",
   "metadata": {},
   "outputs": [
    {
     "name": "stdout",
     "output_type": "stream",
     "text": [
      "True\n"
     ]
    }
   ],
   "source": [
    "print(mB == mA)"
   ]
  },
  {
   "cell_type": "markdown",
   "id": "0bf6b4f6",
   "metadata": {},
   "source": [
    "Here we prove that the recovered plaintext indeed matches Alice's original message."
   ]
  },
  {
   "cell_type": "code",
   "execution_count": 19,
   "id": "d153e7f7",
   "metadata": {},
   "outputs": [
    {
     "name": "stdout",
     "output_type": "stream",
     "text": [
      "Sign and encrypt me!\n"
     ]
    }
   ],
   "source": [
    "print(mB)"
   ]
  },
  {
   "cell_type": "markdown",
   "id": "ef053227",
   "metadata": {},
   "source": [
    "Let's print the message, just to make sure.\n",
    "\n",
    "All that remains to complete the session is for Bob to verify Alice's signature, and thereby prove that the message has not been altered and, further, that it originated from Alice (or, at least, that it was signed with Alice's private key)."
   ]
  },
  {
   "cell_type": "code",
   "execution_count": 20,
   "id": "7b25ce85",
   "metadata": {},
   "outputs": [
    {
     "name": "stdout",
     "output_type": "stream",
     "text": [
      "True\n"
     ]
    }
   ],
   "source": [
    "print(rsa.verify(nA, rsa.VERIFICATION_EXPONENT, mB, oA))"
   ]
  },
  {
   "cell_type": "markdown",
   "id": "8b876d41",
   "metadata": {},
   "source": [
    "Bob calls the `rsa.verify` fuction, passing Alice's public modulus *[nA]*, the constant signature&ndash;verification key *[rsa.VERIFICATION_EXPONENT]*, the decrypted message *mB* and the sigature sent to him by Alice *[oA]*.\n",
    "\n",
    "If the assertion above holds, we've proved that Bob has successfully decrypted and verified the message sent to him by Alice."
   ]
  }
 ],
 "metadata": {
  "kernelspec": {
   "display_name": "Python 3 (ipykernel)",
   "language": "python",
   "name": "python3"
  },
  "language_info": {
   "codemirror_mode": {
    "name": "ipython",
    "version": 3
   },
   "file_extension": ".py",
   "mimetype": "text/x-python",
   "name": "python",
   "nbconvert_exporter": "python",
   "pygments_lexer": "ipython3",
   "version": "3.10.1"
  }
 },
 "nbformat": 4,
 "nbformat_minor": 5
}
