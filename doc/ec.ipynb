{
 "cells": [
  {
   "cell_type": "markdown",
   "id": "3ceecc4f-2c73-4e77-bf0d-c9fb0238e8e6",
   "metadata": {},
   "source": [
    "## A Demonstration of the Elliptic Curve (EC) Cryptosystem\n",
    "\n",
    "The EC cryptosystem demonstrated below combines Diffie-Hellman style symmetric key agreement with a digital signature algorithm to achieve confidentiality, integrity and authentication of a message exchanged between two parties (Alice and Bob) over an insecure channel. Practically speaking, a third party (Eve) eavesdropping on the insecure channel has no way of learning the content of the message, nor any way of corrupting the message without the receiving party knowing it has been corrupted.\n",
    "\n",
    "The key-agreement aspect of the cryptosystem provides message confidentiality, and is known by the initials ECDH, which short for Elliptic Curve Diffie-Hellman (alternatively ECDHE, the last *E* standing for *Ephemeral* to indicate that the session key negotiated by the message-exchanging parties is to be used only once and then discarded). The digital signature and verification aspect of the cryptosystem provides message integrity and authenticity, and is known by the initials ECDSA, for Elliptic Curve Digital Signature Algorithm.\n",
    "\n",
    "Elliptic curve cryptography represents a novel approach to the discrete logarithm problem (DLP) first introduced by Diffie and Hellman in their 1976 paper [*New Directions in Cryptography*](https://ee.stanford.edu/~hellman/publications/24.pdf), which remains to this day the basis for modern day key negotiation over insecure channels. ECDLP has the advantage of requiring much shorter key lengths than traditional DH, however, to achieve equivalent security levels. This makes EC the only practical choice in applications on small, low-power devices, like contactless smart cards and smart phones. While an EC key of 256 bits in length provides 128-bit security (today considered the minimum acceptible security level), DH and RSA keys must be at least 3,072 bits to provide the same level of security.\n",
    "\n",
    "### The Code\n",
    "The following sequence of function calls to the `ec` module (located in the [/src](https://github.com/dchampion/crypto/tree/master/code/src) directory of this repository) illustrates a session in which Alice signs and encrypts a private message, and sends the message to Bob over an insecure channel. Meanwhile, Eve&mdash;a passive adversary&mdash;intercepts all the information exchanged between Alice and Bob on the insecure channel.\n",
    "\n",
    "It is assumed that Alice, Bob and Eve all possess their own copy of the `ec` module; but that only Alice and Bob possess the signing and encryption keys produced by this module to achieve confidentiality, integrity and authentication of the private message Alice transmits to Bob.\n",
    "\n",
    "Values below surrounded in square brackets [ ] are public (i.e., they can be transmitted over the insecure channel with no compromise to the security of the system, even if they are observed by Eve), and those that are not in square brackets are private (i.e., they must not be transmitted over the insecure channel)."
   ]
  },
  {
   "cell_type": "code",
   "execution_count": 63,
   "id": "616bc581-e2b5-43ed-9988-a3e7c793d208",
   "metadata": {
    "tags": []
   },
   "outputs": [],
   "source": [
    "import sys\n",
    "sys.path.append(\"../code/src\")\n",
    "import ec\n",
    "sys.path.append(\"../code/test\")\n",
    "import sym"
   ]
  },
  {
   "cell_type": "markdown",
   "id": "211dd5f2-a444-4f8b-aa47-1427e10011ab",
   "metadata": {},
   "source": [
    "Import the `ec` module, and a module `sym` that implements the symmetric cipher Alice and Bob will use in the session."
   ]
  },
  {
   "cell_type": "code",
   "execution_count": 64,
   "id": "56f768d3-c857-4acb-a519-853164c4f995",
   "metadata": {},
   "outputs": [],
   "source": [
    "ec.new_curve(17,2,2,5,1,19,1,5)"
   ]
  },
  {
   "cell_type": "markdown",
   "id": "cc8d0407-9533-42ed-aaa0-3eb4519185ad",
   "metadata": {},
   "source": [
    "The `ec` module defines a NIST-/SECG-sanctioned ellipctic curve by default; specifically, the secp256k1 curve (we know this curve is secure because it has secured the Bitcoin blockchain since 2009). For the purposes of this demonstration, however, Alice will define a much smaller (and therefore much less secure) curve.\n",
    "\n",
    "The parameters required to define the new curve, in order, are the prime modulus (17), the coefficient a (2), the coefficient b (2), the x-coordinate of the base point (5), the y-coordinate of the base point (1), the number of points on the curve (19), the cofactor of the curve point group (1), and an optional parameter that specifies the number of iterations to test the curve's strength against a certain class of attacks (5) (the parameter is required here because the default value of 100 will cause the curve to fail validation).\n",
    "\n",
    "If any of these parameters is invalid, `ec.new_curve` will raise an exception. As it turns out, a curve with these parameters is valid (albeit wholly insecure due to its small size)."
   ]
  },
  {
   "cell_type": "code",
   "execution_count": 65,
   "id": "feb13da7-f9d5-4597-bd7c-805272a5bd24",
   "metadata": {},
   "outputs": [
    {
     "name": "stdout",
     "output_type": "stream",
     "text": [
      "17 2 2 5 1 19 1\n"
     ]
    }
   ],
   "source": [
    "print(ec._p, ec._a, ec._b, ec._Gx, ec._Gy, ec._n, ec._h)"
   ]
  },
  {
   "cell_type": "code",
   "execution_count": 85,
   "id": "c9e19873-7a33-40ad-8dfa-821b28987882",
   "metadata": {},
   "outputs": [
    {
     "name": "stdout",
     "output_type": "stream",
     "text": [
      "[[5, 1], [6, 3], [10, 6], [3, 1], [9, 16], [16, 13], [0, 6], [13, 7], [7, 6], [7, 11], [13, 10], [0, 11], [16, 4], [9, 1], [3, 16], [10, 11], [6, 14], [5, 16], [None, None]]\n"
     ]
    }
   ],
   "source": [
    "pts = []\n",
    "pt = ec._G\n",
    "while pt != ec._i:\n",
    "    pts.append(pt)\n",
    "    pt = ec.add(ec._G, pt)\n",
    "pts.append(pt)\n",
    "print(pts)"
   ]
  },
  {
   "cell_type": "markdown",
   "id": "04977d1e-a23e-4067-97c0-96255b8b712a",
   "metadata": {},
   "source": [
    "To get a better picture of what's going on here, the loop in the above code snippet collects all the points in the curve and then prints them out. Note the first point in the list, the base point `[5, 1]`, whose coordinates Alice specified in the 4<sup>th</sup> and 5<sup>th</sup> parameters to `ec.new_curve`. Also note the last point, `[None, None]`, which on an elliptic curve is called the *point at infinity*, and denotes the identity element in an elliptic&ndash;curve point group.\n",
    "\n",
    "The number of points in the group is 19, which Alice specified in the 6<sup>th</sup> parameter to `ec.new_curve`.\n",
    "\n",
    "Finally, note that this code is not required for the protocol; it is only included to provide a visual representation of the points on this ellipctic curve."
   ]
  },
  {
   "cell_type": "code",
   "execution_count": 68,
   "id": "7125e2d9-1384-4d4b-b4c0-a3128b79fe35",
   "metadata": {},
   "outputs": [],
   "source": [
    "dA, QA = ec.generate_keypair()"
   ]
  },
  {
   "cell_type": "markdown",
   "id": "612d37bc-42ad-4790-972c-b6184adaea4c",
   "metadata": {},
   "source": [
    "Next, Alice generates a key pair, and stores the keys in *dA* and *[QA]*; these are her private and public keys, respectively. The suffixed capital letter *A* denotes that these keys belong to Alice.\n",
    "\n",
    "Alice transmits her public key *[QA]* to Bob, but she must keep her private key *dA* secret."
   ]
  },
  {
   "cell_type": "code",
   "execution_count": 69,
   "id": "b820ee78-ec58-432f-b6e5-3bc703bebb2e",
   "metadata": {},
   "outputs": [
    {
     "name": "stdout",
     "output_type": "stream",
     "text": [
      "14 [9, 1]\n"
     ]
    }
   ],
   "source": [
    "print(dA, QA)"
   ]
  },
  {
   "cell_type": "markdown",
   "id": "9a750058-34d1-4b7f-9379-53eaf6e7288a",
   "metadata": {},
   "source": [
    "If we print the keys, we see the private key is an integer, and the public key a point on the curve. Note that the private key is the 1-based index of the curve in the group we printed above; that is, it is the *dA*<sup>th</sup> point in the list.\n",
    "\n",
    "More formally, using elliptic curve math, we have *added* the base point `[5, 1]` to itself *dA* times to get the public key *QA*."
   ]
  },
  {
   "cell_type": "code",
   "execution_count": 70,
   "id": "88e0d9c2-c9ee-4ff8-87af-cc01c0b915a9",
   "metadata": {},
   "outputs": [],
   "source": [
    "dB, QB = ec.generate_keypair()"
   ]
  },
  {
   "cell_type": "markdown",
   "id": "345570cf-6e0c-4cb6-b3e8-d5fb115dec88",
   "metadata": {},
   "source": [
    "Now it's Bob's turn to generate a key pair (suffixed with the capital letter *B* to denote they belong to him). As with Alice's keys, Bob transmits his public key *[QB]* to Alice, and keeps his private key *dB* secret."
   ]
  },
  {
   "cell_type": "code",
   "execution_count": 71,
   "id": "9de9d648-9d68-43eb-a958-9b92c19cc0b8",
   "metadata": {},
   "outputs": [
    {
     "name": "stdout",
     "output_type": "stream",
     "text": [
      "3 [10, 6]\n"
     ]
    }
   ],
   "source": [
    "print(dB, QB)"
   ]
  },
  {
   "cell_type": "markdown",
   "id": "ab8b07cd-4e0b-4249-b383-51e913d45d03",
   "metadata": {},
   "source": [
    "If we print Bob's keys, we see a familiar pattern."
   ]
  },
  {
   "cell_type": "code",
   "execution_count": 72,
   "id": "ba675a1f-280c-43e7-a1ce-bdde98eb8ec6",
   "metadata": {},
   "outputs": [],
   "source": [
    "kSessionA = ec.generate_session_key(dA, QB)"
   ]
  },
  {
   "cell_type": "markdown",
   "id": "4a45df37-9fc5-4b66-bc00-aba600e7ad1c",
   "metadata": {},
   "source": [
    "Now Alice computes a session key `kSessionA`, using her private key *dA* and Bob's public key *QB*.\n",
    "\n",
    "If you are familiar with traditional Diffie-Hellman, you should see something familiar here. The essential property of DH is expressed in the interface `ec.generate_session_key(dA, QB)`; namely, a secret session key is computed using one party's private key in combination with the other party's public key.\n",
    "\n",
    "Whereas in traditional DH the private key is multiplied by the public key to produce an integer exponent to which to raise a common integer base, in ECDH the private key (an integer) is *multiplied* by the public key (a curve point). The result of both operations is an identical session key; in the former this is an integer, and in the latter it is a curve point (*multiplication* is another way of saying repeated addition, which is in fact the only operator supported by elliptic curve point groups).\n",
    "\n",
    "An implementation detail is worth noting here. One might wonder how it is that a curve point `[x, y]`, generated by the multiplication of an integer (*dA*) to a base point (*QB*), is converted to a byte array that can be used as a key (*kSessionA*) in a symmetric cipher. The answer is that the x-coordinate&mdash;which is in fact just an integer in the range `0 < x < p`, where *p* is the prime modulus in the curve group&mdash;is extracted from the point, and just it is used for the session key."
   ]
  },
  {
   "cell_type": "code",
   "execution_count": 73,
   "id": "4e3e2ff2-45bd-42ff-b4c2-b07d83ff2d74",
   "metadata": {},
   "outputs": [],
   "source": [
    "kSessionB = ec.generate_session_key(dB, QA)"
   ]
  },
  {
   "cell_type": "markdown",
   "id": "75d4d7a1-5d22-4d49-abe9-3d8820b64362",
   "metadata": {},
   "source": [
    "Now Bob computes a session key *kSessionB*, using his private key *dB* in combination with Alice's public key *QA*. If the essential property of DH holds, Alice's and Bob's session keys should be identical.\n",
    "\n",
    "Further, Eve, having only observed Alice's and Bob's public keys, cannot feasibly derive the session key with just knowledge of the public keys. The only way to accomplish this would be to add curve points repeatedly, starting with the base point, until the session key is found. This would would take thousands of years at current computer speeds."
   ]
  },
  {
   "cell_type": "code",
   "execution_count": 88,
   "id": "a5dae856-e897-494e-afbd-2c78f1b7d1f6",
   "metadata": {},
   "outputs": [
    {
     "name": "stdout",
     "output_type": "stream",
     "text": [
      "True\n"
     ]
    }
   ],
   "source": [
    "print(kSessionA == kSessionB)"
   ]
  },
  {
   "cell_type": "markdown",
   "id": "3dbd5369-59ec-4960-b386-b7dad30c57e9",
   "metadata": {},
   "source": [
    "We see here that *kSessionA* is in fact equivalent to *kSessionB*."
   ]
  },
  {
   "cell_type": "code",
   "execution_count": 75,
   "id": "0bd72b3b-0fa8-459d-b84b-d1997512176a",
   "metadata": {},
   "outputs": [],
   "source": [
    "mA = \"Sign and encrypt me!\""
   ]
  },
  {
   "cell_type": "markdown",
   "id": "1f053d69-1933-4dd5-b40f-d4898b1d4419",
   "metadata": {},
   "source": [
    "Now Alice composes a message for Bob, and stores it in *mA*."
   ]
  },
  {
   "cell_type": "code",
   "execution_count": 76,
   "id": "35edd6da-319a-4a2d-b55e-c2a21a4033fc",
   "metadata": {},
   "outputs": [],
   "source": [
    "S = ec.sign(dA, mA)"
   ]
  },
  {
   "cell_type": "markdown",
   "id": "058893ad-6c8c-41b2-9228-a50c1bc332e7",
   "metadata": {},
   "source": [
    "Alice signs the message and stores the signature in *[S]*."
   ]
  },
  {
   "cell_type": "code",
   "execution_count": 78,
   "id": "df1469c2-f5ae-4b19-9c26-df47a87a7a45",
   "metadata": {},
   "outputs": [],
   "source": [
    "mAC = sym.encrypt(kSessionA, mA)"
   ]
  },
  {
   "cell_type": "markdown",
   "id": "302b234c-38f0-4a51-b54d-76d6297982b8",
   "metadata": {},
   "source": [
    "Alice encrypts the message using her session key, and stores the ciphertext in *[mAC]*. Alice then transmits the ciphertext *[mAC]*, along with the signature *[S]*, to Bob."
   ]
  },
  {
   "cell_type": "code",
   "execution_count": 80,
   "id": "52437d81-80e4-4e62-ab81-3a044e794640",
   "metadata": {},
   "outputs": [],
   "source": [
    "mB = sym.decrypt(kSessionB, mAC)"
   ]
  },
  {
   "cell_type": "markdown",
   "id": "d7d0d0f2-abe4-4041-8f4b-ac18d1a5ba63",
   "metadata": {},
   "source": [
    "Having received the ciphertext and signature from Alice, Bob first decrypts the ciphertext *[mAC]*, using his session key *kSessionB*, and stores the result in *mB*."
   ]
  },
  {
   "cell_type": "code",
   "execution_count": 81,
   "id": "234a84c4-58dd-48f4-a60c-5458ee9c1426",
   "metadata": {},
   "outputs": [
    {
     "name": "stdout",
     "output_type": "stream",
     "text": [
      "Sign and encrypt me!\n"
     ]
    }
   ],
   "source": [
    "print(mB)"
   ]
  },
  {
   "cell_type": "markdown",
   "id": "23f27135-7c45-45ab-8261-3331c36d511b",
   "metadata": {},
   "source": [
    "Here we print *mB*, and see that it matches the plaintext *mA* Alice encrypted into *[mAC]* and transmitted to Bob. Note Alice transmitted *[mAC]* to Bob, not *mA*.\n",
    "\n",
    "Thus far Alice has transmitted her message confidentially to Bob; what remains is for Bob to verify the integrity and authenticity of the message."
   ]
  },
  {
   "cell_type": "code",
   "execution_count": 82,
   "id": "64f49143-4b59-4880-b1e6-eb02a6949a0a",
   "metadata": {},
   "outputs": [
    {
     "name": "stdout",
     "output_type": "stream",
     "text": [
      "True\n"
     ]
    }
   ],
   "source": [
    "print(ec.verify(QA, mB, S))"
   ]
  },
  {
   "cell_type": "markdown",
   "id": "954e67f8-8321-46c5-accd-4192c1281328",
   "metadata": {},
   "source": [
    "Bob verifies the integrity (meaning the message signed by Alice was not altered) and authenticity (meaning Alice's private key *dA* was used to sign the message) of the message using the function `ec.verify`, passing it Alice's public key *[QA]*, the plaintext of the message *mB*, and the signature *S*.\n",
    "\n",
    "If the function returns `True`, Bob can be satisfied that the conditions of confidentiality, integrity and authenticity have "
   ]
  }
 ],
 "metadata": {
  "kernelspec": {
   "display_name": "Python 3 (ipykernel)",
   "language": "python",
   "name": "python3"
  },
  "language_info": {
   "codemirror_mode": {
    "name": "ipython",
    "version": 3
   },
   "file_extension": ".py",
   "mimetype": "text/x-python",
   "name": "python",
   "nbconvert_exporter": "python",
   "pygments_lexer": "ipython3",
   "version": "3.10.1"
  }
 },
 "nbformat": 4,
 "nbformat_minor": 5
}
