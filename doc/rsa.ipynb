{
 "cells": [
  {
   "cell_type": "markdown",
   "id": "54bfb059",
   "metadata": {},
   "source": [
    "## A Demonstration of the RSA Cryptosystem\n",
    "\n",
    "The following sequence of function calls to the `rsa` module (located in the [/src](https://github.com/dchampion/crypto/tree/master/code/src) directory of this repository) illustrates a session in which Alice signs and encrypts a private message, and sends the message to Bob over an insecure channel. Meanwhile, Eve&mdash;a passive adversary&mdash;intercepts all the information exchanged between Alice and Bob on the insecure channel.\n",
    "\n",
    "It is assumed that Alice, Bob and Eve all possess their own copy of the `rsa` module; but that only Alice and Bob possess the signing and encryption keys produced by this module to achieve confidentiality, integrity and authentication of the private message Alice transmits to Bob.\n",
    "\n",
    "Values below surrounded in square brackets [ ] are public (i.e., they can be transmitted over the insecure channel with no compromise to the security of the system, even if they are observed by Eve), and those that are not in square brackets are private (i.e., they must *not* be transmitted over the insecure channel).\n",
    "\n",
    "The sequence begins with Alice generating her RSA key parameters using the `rsa` module's `generate_rsa_key` function, passing it a modulus size of `2048` bits. The function returns the quintuple `pA`, `qA`, `[nA]`, `d3A` and `d5A` (the suffix *A* on all the parameters identify them as belonging to Alice). Alice transmits her public modulus `[nA]` to Bob.\n",
    "\n",
    "The `rsa` module defines the global constants `[3]` and `[5]` as the signature-verification and encryption keys, respectively, in order to minimize computational overhead (these are stored in the global variables `rsa.VERIFICATION_EXPONENT` and `rsa.ENCRYPTION_EXPONENT`). The small size of these values in no way compromises the security of the system; rather, the security of the system depends solely on the size of the public modulus (the bigger, the more secure). These constants, together with `[nA]`, comprise Alice's public key, and may be observed by Eve with no loss of security.\n",
    "\n",
    "Alice must, however, keep the values `pA` and `qA`&mdash;the 1024-bit prime factors of `[nA]`&mdash;secret. She must also keep `d3A` and `d5A`&mdash;her signing and decryption keys, respectively&mdash;secret."
   ]
  },
  {
   "cell_type": "code",
   "execution_count": 1,
   "id": "8537dcec",
   "metadata": {},
   "outputs": [],
   "source": [
    "import sys\n",
    "sys.path.append(\"../code/src\")\n",
    "import rsa\n",
    "sys.path.append(\"../code/test\")\n",
    "import sym\n",
    "\n",
    "pA, qA, nA, d3A, d5A = rsa.generate_rsa_key(2048)"
   ]
  },
  {
   "cell_type": "markdown",
   "id": "8b33731b",
   "metadata": {},
   "source": [
    "To get an idea of the size and proportions of these parameters, let's print some of them out in decimal form. Note that `[nA]`, which is the product of `pA` and `qA`, is twice the length of each individually; `pA`'s and `qA`'s ~310 decimal digits to `[nA]`'s ~620."
   ]
  },
  {
   "cell_type": "code",
   "execution_count": 2,
   "id": "d285c70d-8e90-4a76-9eee-b8611fa2e44b",
   "metadata": {},
   "outputs": [
    {
     "name": "stdout",
     "output_type": "stream",
     "text": [
      "137797313401830237271691148454204149826291279182572263925626859390771130435841299972887486938623795367181058316365464882373031062568738137223968332905137774170216481035313388335919217222212907080905585682642397969088403952466633511580399743988620520396229316942793027305240379370345674663532786879131572562447\n"
     ]
    }
   ],
   "source": [
    "print(pA)"
   ]
  },
  {
   "cell_type": "code",
   "execution_count": 3,
   "id": "89735701-fab6-4f97-a1f5-4c27da1fafca",
   "metadata": {},
   "outputs": [
    {
     "name": "stdout",
     "output_type": "stream",
     "text": [
      "136542630674835348671437596765204121826298559928728198256669091820683904787330675878583672827676610382124872042480794837517295175326183532215209418552708101423160167886913835889609502267898585627138080404842519295283818471037920566129817514934016974631167542512370015286167231167747855257344402022940392748567\n"
     ]
    }
   ],
   "source": [
    "print(qA)"
   ]
  },
  {
   "cell_type": "code",
   "execution_count": 4,
   "id": "dd99c21f-e2a8-4453-b23a-7310e2156b76",
   "metadata": {},
   "outputs": [
    {
     "name": "stdout",
     "output_type": "stream",
     "text": [
      "18815207671810645446112202915048284595293025617977859527481999263937067794632138921400167875153003632868056272158847194641083418770519681844951962212444538375123203395642829060660508657831479362160159144356391623296330094210579391441740810424844147808403091848198317358154933401639998007001847584763150067106906391837402982732417801844742122052035876644531370750770284288459680741581553987561014479127482449247317963373733807615504974328246218894408730348600152486832685381735568000902431699665238633167928407987965266918750496324795657523073715033494586157394960797653560082212397595359503304013441603862537577263449\n"
     ]
    }
   ],
   "source": [
    "print(nA)"
   ]
  },
  {
   "cell_type": "markdown",
   "id": "679da888",
   "metadata": {},
   "source": [
    "Recall that Alice requested a modulus of 2048 bits in length in her call to `generate_rsa_key`. Let's print the bit length of `[nA]` and see what we get."
   ]
  },
  {
   "cell_type": "code",
   "execution_count": 5,
   "id": "fc27b26c-1684-4348-9d39-b5166f711ec7",
   "metadata": {},
   "outputs": [
    {
     "name": "stdout",
     "output_type": "stream",
     "text": [
      "2048\n"
     ]
    }
   ],
   "source": [
    "print(nA.bit_length())"
   ]
  },
  {
   "cell_type": "markdown",
   "id": "f0798a83",
   "metadata": {},
   "source": [
    "What we see is that a string of 2048 bits equates to a decimal number of some 620 digits in length. We should see the same pattern if we print the bit lengths of `[nA]`'s prime factors `pA` and `qA`; that is, 1024 bits represents a decimal number of about 310 digits in length."
   ]
  },
  {
   "cell_type": "code",
   "execution_count": 6,
   "id": "72ad6671-39de-4fb9-95b4-ea7a1fa53275",
   "metadata": {},
   "outputs": [
    {
     "name": "stdout",
     "output_type": "stream",
     "text": [
      "1024\n"
     ]
    }
   ],
   "source": [
    "print(pA.bit_length())"
   ]
  },
  {
   "cell_type": "code",
   "execution_count": 7,
   "id": "6c93ba61-9e62-4e6a-af4b-0d5a7be7703b",
   "metadata": {},
   "outputs": [
    {
     "name": "stdout",
     "output_type": "stream",
     "text": [
      "1024\n"
     ]
    }
   ],
   "source": [
    "print(qA.bit_length())"
   ]
  },
  {
   "cell_type": "markdown",
   "id": "ea7318a4",
   "metadata": {},
   "source": [
    "Now let's make sure `[nA]` is indeed the product of `pA` and `qA`. Note this step is not necessary for the protocol; it is done here just for demonstration purposes."
   ]
  },
  {
   "cell_type": "code",
   "execution_count": 8,
   "id": "41cc128c-cd29-44fd-be78-6406c9c2e771",
   "metadata": {},
   "outputs": [
    {
     "name": "stdout",
     "output_type": "stream",
     "text": [
      "True\n"
     ]
    }
   ],
   "source": [
    "print(qA * pA == nA)"
   ]
  },
  {
   "cell_type": "markdown",
   "id": "2d8903c0",
   "metadata": {},
   "source": [
    "Now it's Bob's turn to generate RSA keys of his own. To differentiate Bob's keys from Alice's keys, we append Bob's with the captial letter *B*."
   ]
  },
  {
   "cell_type": "code",
   "execution_count": 9,
   "id": "90b4d371-da20-455d-a245-dc78f3bf190e",
   "metadata": {},
   "outputs": [],
   "source": [
    "pB, qB, nB, d3B, d5B = rsa.generate_rsa_key(2048)"
   ]
  },
  {
   "cell_type": "markdown",
   "id": "11b60a44",
   "metadata": {},
   "source": [
    "Because Bob requested a modulus size of 2048, based on our inspection of Alice's keys above we can conclude that Bob's keys are the same size as Alice's keys; so we don't need to print their values here.\n",
    "\n",
    "Now that Alice and Bob have generated their keys, and transmitted to each other their public moduli `[nA]` and `[nB]`, they can proceed with a secure message exchange.\n",
    "\n",
    "Let's say Alice wants to send Jenny's number (8675309) securely to Bob. First, Alice stores Jenny's number in the variable `mA`."
   ]
  },
  {
   "cell_type": "code",
   "execution_count": 10,
   "id": "ea2adce8-c9d0-43e7-8201-589c6415bf07",
   "metadata": {},
   "outputs": [],
   "source": [
    "mA = \"Sign and encrypt me!\""
   ]
  },
  {
   "cell_type": "markdown",
   "id": "c48800f4",
   "metadata": {},
   "source": [
    "Then Alice calls the `rsa` module's `sign` fuction to sign the message, and stores the signature in the variable `[oA]`.\n",
    "\n",
    "To sign the message, Alice needs to supply her secret signing key `d3A`, the two factors of `[nA]`, `pA` and `qA`, and the message `mA` to the rsa module's `sign` function."
   ]
  },
  {
   "cell_type": "code",
   "execution_count": 11,
   "id": "dd466c1d-509f-4a03-84e4-0c4fb8b9d313",
   "metadata": {},
   "outputs": [],
   "source": [
    "oA = rsa.sign(d3A, pA, qA, mA)"
   ]
  },
  {
   "cell_type": "markdown",
   "id": "22fe32a2",
   "metadata": {},
   "source": [
    "Then Alice calls the `rsa` module's `encrypt_random_key` function, passing it Bob's RSA modulus `[nB]` and the global encryption exponent `[rsa.ENCRYPTION_EXPONENT]`, to compute a session key that will be used to encrypt the private message using a symmetric cipher (e.g., AES). This function returns the pair `KA` and `[cA]`, which are, respectively, the encryption key itself, and the ciphertext of a value Bob will use to replicate the same encryption key on his side of the channel.\n",
    "\n",
    "Alice must keep the session key `KA` private, but she transmits the ciphertext `[cA]` to Bob."
   ]
  },
  {
   "cell_type": "code",
   "execution_count": 12,
   "id": "460f7d8b",
   "metadata": {},
   "outputs": [],
   "source": [
    "KA, cA = rsa.encrypt_random_key(nB, rsa.ENCRYPTION_EXPONENT)"
   ]
  },
  {
   "cell_type": "markdown",
   "id": "b2d24aba",
   "metadata": {},
   "source": [
    "Then Alice encrypts the private message using a symmetric cipher.\n",
    "\n",
    "In a real application, Alice and Bob would use an industrial-strength cipher (e.g., AES, 3DES) for message encryption. To keep things simple, however, we will use a bitwise exclusive-or (XOR) of the message with the symmetric key `KA` to serve as a cipher.\n",
    "\n",
    "The result of this operation is the ciphertext `[mAC]`, from the XOR of `KA` with the message `mA`."
   ]
  },
  {
   "cell_type": "code",
   "execution_count": 13,
   "id": "ab63ee7e",
   "metadata": {},
   "outputs": [],
   "source": [
    "mAC = sym.encrypt(KA, mA)"
   ]
  },
  {
   "cell_type": "markdown",
   "id": "0a90aa03",
   "metadata": {},
   "source": [
    "Alice transmits the message signature `[oA]`, the message ciphertext `[mAC]` and the ciphertext of the symmetric-key's input material `[cA]` to Bob.\n",
    "\n",
    "In order to decrypt the private message, Bob must reproduce the symmetric key Alice used to encrypt it. He does this by calling the `rsa` module's `decrypt_random_key` function, passing it his private decryption key `d5B`, the ciphertext of Alice's symmetric-key input material `[cA]`, and the two prime factors of his public modulus `pB` and `qB` (using `pB` and `qB`, instead of its equivalent `[nB]`, provides for faster decryption by means of the Chinese Remainder Theorem)."
   ]
  },
  {
   "cell_type": "code",
   "execution_count": 14,
   "id": "f82ac5c1",
   "metadata": {},
   "outputs": [],
   "source": [
    "KB = rsa.decrypt_random_key(d5B, cA, pB, qB)"
   ]
  },
  {
   "cell_type": "markdown",
   "id": "600f96cf",
   "metadata": {},
   "source": [
    "Let's make sure the key Bob decrypted above is the same as the key Alice encrypted. Again, this step is not required for the protocol; it is only used here to demonstrate that the keys are indeed equal."
   ]
  },
  {
   "cell_type": "code",
   "execution_count": 15,
   "id": "8ef4fba6",
   "metadata": {},
   "outputs": [
    {
     "name": "stdout",
     "output_type": "stream",
     "text": [
      "True\n"
     ]
    }
   ],
   "source": [
    "print(KB == KA)"
   ]
  },
  {
   "cell_type": "markdown",
   "id": "b80c6935",
   "metadata": {},
   "source": [
    "Now, Bob should be able to use the symmetric key `KB` to decrypt the message, by XOR'ing it with the ciphertext `mAC`. (An XOR is merely a bitwise toggle, in the first case from Alice's plaintext `mA` to the ciphertext `[mAC]`, and in the second case from `[mAC]` back to Bob's plaintext `mB` which, by this logic, should be identical to `mA`."
   ]
  },
  {
   "cell_type": "code",
   "execution_count": 16,
   "id": "392b6673",
   "metadata": {},
   "outputs": [],
   "source": [
    "mB = sym.decrypt(KB, mAC)"
   ]
  },
  {
   "cell_type": "markdown",
   "id": "b072394a",
   "metadata": {},
   "source": [
    "If the assertion below holds, we know that Bob has successfully decrypted the private message encrypted, and sent to him, by Alice (i.e., Jenny's number)."
   ]
  },
  {
   "cell_type": "code",
   "execution_count": 17,
   "id": "70e9aa88",
   "metadata": {},
   "outputs": [
    {
     "name": "stdout",
     "output_type": "stream",
     "text": [
      "True\n"
     ]
    }
   ],
   "source": [
    "print(mB == mA)"
   ]
  },
  {
   "cell_type": "markdown",
   "id": "0bf6b4f6",
   "metadata": {},
   "source": [
    "Let's print it here, just to prove that it is."
   ]
  },
  {
   "cell_type": "code",
   "execution_count": 18,
   "id": "d153e7f7",
   "metadata": {},
   "outputs": [
    {
     "name": "stdout",
     "output_type": "stream",
     "text": [
      "Sign and encrypt me!\n"
     ]
    }
   ],
   "source": [
    "print(mB)"
   ]
  },
  {
   "cell_type": "markdown",
   "id": "ef053227",
   "metadata": {},
   "source": [
    "All that remains to complete the session is for Bob to verify Alice's signature, and thereby prove that the message has not been altered and, further, that it originated from Alice (or, at least, that it was signed with Alice's private key).\n",
    "\n",
    "He does this by calling the `rsa` module's `verify` fuction, passing Alice's public modulus `[nA]`, the constant signature-verification key `[rsa.VERIFICATION_EXPONENT]`, the decrypted message `mB` (Jenny's number) and the sigature sent to him by Alice `[oA]`."
   ]
  },
  {
   "cell_type": "code",
   "execution_count": 19,
   "id": "7b25ce85",
   "metadata": {},
   "outputs": [],
   "source": [
    "verified = rsa.verify(nA, rsa.VERIFICATION_EXPONENT, mB, oA)"
   ]
  },
  {
   "cell_type": "markdown",
   "id": "8b876d41",
   "metadata": {},
   "source": [
    "If the assertion below holds, we've proved that Bob has successfully decrypted and verified the message sent to him by Alice."
   ]
  },
  {
   "cell_type": "code",
   "execution_count": 20,
   "id": "23a0b9be",
   "metadata": {},
   "outputs": [
    {
     "name": "stdout",
     "output_type": "stream",
     "text": [
      "True\n"
     ]
    }
   ],
   "source": [
    "print(verified)"
   ]
  }
 ],
 "metadata": {
  "kernelspec": {
   "display_name": "Python 3 (ipykernel)",
   "language": "python",
   "name": "python3"
  },
  "language_info": {
   "codemirror_mode": {
    "name": "ipython",
    "version": 3
   },
   "file_extension": ".py",
   "mimetype": "text/x-python",
   "name": "python",
   "nbconvert_exporter": "python",
   "pygments_lexer": "ipython3",
   "version": "3.10.1"
  }
 },
 "nbformat": 4,
 "nbformat_minor": 5
}
