{
 "cells": [
  {
   "attachments": {},
   "cell_type": "markdown",
   "id": "54bfb059",
   "metadata": {},
   "source": [
    "# A Demonstration of the RSA Cryptosystem\n",
    "\n",
    "The Rivest&ndash;Shamir&ndash;Adleman ([RSA](https://en.wikipedia.org/wiki/RSA_\\(cryptosystem\\))) cryptosystem demonstrated here combines secure key&ndash;exchange with digital signature to provide for the _confidentiality_, _integrity_ and _authenticity_ of a private message exchanged between two parties (Alice and Bob) over an insecure channel. Moreover, an adversary (Eve) listening on this channel has no practical way of learning the content of the message, nor any way of tampering with it without the receiving party knowing the message has been corrupted.\n",
    "\n",
    "The key&ndash;exchange component of this cryptosystem provides for message confidentiality utilizing a [_key&ndash;encapsulation mechanism_](https://en.wikipedia.org/wiki/Key_encapsulation_mechanism) (or _KEM_). This differs from more traditional approaches to key negotiation that utilize a key&ndash;_agreement_ mechanism, such as those based on the [discrete logarithm problem](https://en.wikipedia.org/wiki/Discrete_logarithm) introduced by Diffie and Hellman in their seminal 1976 paper [_New Directions in Cryptography_](https://ee.stanford.edu/~hellman/publications/24.pdf).\n",
    "\n",
    "The digital signature component of this cryptosystem provides for message integrity and authenticity, ideas that were conceived by Diffie and Hellman in their 1976 paper, but not implemented until Rivest, Shamir and Adleman published [_A Method for Obtaining Digital Signatures and Public&ndash;Key Cryptosystems_](https://people.csail.mit.edu/rivest/Rsapaper.pdf) in 1978.\n",
    "\n",
    "## The Source Code\n",
    "The following sequence of function calls to the [rsa](https://github.com/dchampion/crypto/tree/master/src/core/rsa.py) module illustrates a session in which Alice signs and encrypts a private message, and then transmits the message to Bob over an insecure channel. Meanwhile, an adversary (Eve) intercepts the message, but cannot feasibly learn its content, nor tamper with it without Bob detecting the message has been corrupted.\n",
    "\n",
    "It is assumed that Alice, Bob and Eve all possess their own copy of the [rsa](https://github.com/dchampion/crypto/tree/master/src/core/rsa.py) module; but that only Alice and Bob possess the signing and encryption keys produced by this module to provide the aforementioned protections.\n",
    "\n",
    "Alice and Bob both import the [rsa](https://github.com/dchampion/crypto/tree/master/src/core/rsa.py) module, and a module [sym](https://github.com/dchampion/crypto/tree/master/src/tests/core/sym.py) that implements a symmetric cipher they have agreed in advance will be used to encrypt and decrypt messages (the [sym](https://github.com/dchampion/crypto/tree/master/src/tests/core/sym.py) cipher used here is for illustrative purposes only, and in a real&ndash;world setting would be replaced with a cryptographically&ndash;strong symmetric cipher such as _3DES_ or _AES_)."
   ]
  },
  {
   "cell_type": "code",
   "execution_count": 1,
   "id": "74603aef",
   "metadata": {},
   "outputs": [],
   "source": [
    "import os\n",
    "os.chdir(\"../src\")\n",
    "\n",
    "# Alice and Bob (and possibly Eve) import the rsa and sym modules required for the session\n",
    "from core import rsa\n",
    "from tests.core import sym"
   ]
  },
  {
   "attachments": {},
   "cell_type": "markdown",
   "id": "842603d8",
   "metadata": {},
   "source": [
    "Alice begins by generating an RSA keypair. She does this by calling the `make_key` function in the `rsa` module, which returns an `RSAKey` object. She stores her keypair in `key_a` (the suffix `_a` identifies this keypair as belonging to Alice). Alice transmits her public key `key_a.n` to Bob."
   ]
  },
  {
   "cell_type": "code",
   "execution_count": 2,
   "id": "8537dcec",
   "metadata": {},
   "outputs": [],
   "source": [
    "# Alice computes her keys, and transmits her public key (key_a.n) to Bob\n",
    "key_a = rsa.make_key()"
   ]
  },
  {
   "attachments": {},
   "cell_type": "markdown",
   "id": "8b33731b",
   "metadata": {},
   "source": [
    "Alice must keep the values `key_a.p` and `key_a.q`&mdash;the prime factors of the public modulus `key_a.n`&mdash;secret. She must also keep `key_a.d3` and `key_a.d5`&mdash;her signing and decryption keys, respectively&mdash;secret.\n",
    "\n",
    "To get an idea of the size and proportions of these parameters, let's print some of them out."
   ]
  },
  {
   "cell_type": "code",
   "execution_count": 3,
   "id": "d285c70d-8e90-4a76-9eee-b8611fa2e44b",
   "metadata": {},
   "outputs": [
    {
     "name": "stdout",
     "output_type": "stream",
     "text": [
      "125652339065675312147022382011679717859872078253674584768506536716950469614266207671801517398541491062849256603397430429996196192545111809351832655870242899438035070299743482149191090197437583801188141121972550165476132715641772549261872566842516342502609464163782077776202159171762636346677523085512225104277\n"
     ]
    }
   ],
   "source": [
    "print(key_a.p)"
   ]
  },
  {
   "cell_type": "code",
   "execution_count": 4,
   "id": "89735701-fab6-4f97-a1f5-4c27da1fafca",
   "metadata": {},
   "outputs": [
    {
     "name": "stdout",
     "output_type": "stream",
     "text": [
      "164278645207286763321954036203874887035969703358150724148132253921832168043494584220316245048444903436023224130792725276613726589622892691866369873821905203852536943435824965055754054141743672510460952638346881962438884879933626691380929391751611097798366524726051551674452119144616062015147549682450417810193\n"
     ]
    }
   ],
   "source": [
    "print(key_a.q)"
   ]
  },
  {
   "cell_type": "code",
   "execution_count": 5,
   "id": "dd99c21f-e2a8-4453-b23a-7310e2156b76",
   "metadata": {},
   "outputs": [
    {
     "name": "stdout",
     "output_type": "stream",
     "text": [
      "20641996028835772958221435286173960123866200272881912275062871459931351845706021829900106259544131656352103494329390380258413785172418908016318568300723524569757341405762256995319797871974147406178693179592292189117078773755639540609063601279353018926765701896275519712066951274767460355621946171726526640100982704907911945862953254532808425900190037972723539166042856378605271823115287018717736698455579561726953651810365876239586588310669469574686836497672410653204018173017850252319125896421396864674359262832414128901610339759692080056620445194711771684328926161924271387306374194824540898713109305113327418495461\n"
     ]
    }
   ],
   "source": [
    "print(key_a.n)"
   ]
  },
  {
   "attachments": {},
   "cell_type": "markdown",
   "id": "679da888",
   "metadata": {},
   "source": [
    "Note that `key_a.n`, which is the product of `key_a.p` and `key_a.q`, is twice the length of each individually, and that these are very big numbers.\n",
    "\n",
    "Next, let's print the bit lengths of `key_a.n` and its prime factors."
   ]
  },
  {
   "cell_type": "code",
   "execution_count": 6,
   "id": "fc27b26c-1684-4348-9d39-b5166f711ec7",
   "metadata": {},
   "outputs": [
    {
     "name": "stdout",
     "output_type": "stream",
     "text": [
      "2048\n"
     ]
    }
   ],
   "source": [
    "print(key_a.get_modulus_size())"
   ]
  },
  {
   "cell_type": "code",
   "execution_count": 7,
   "id": "72ad6671-39de-4fb9-95b4-ea7a1fa53275",
   "metadata": {},
   "outputs": [
    {
     "name": "stdout",
     "output_type": "stream",
     "text": [
      "1024\n"
     ]
    }
   ],
   "source": [
    "print(key_a.p.bit_length())"
   ]
  },
  {
   "cell_type": "code",
   "execution_count": 8,
   "id": "6c93ba61-9e62-4e6a-af4b-0d5a7be7703b",
   "metadata": {},
   "outputs": [
    {
     "name": "stdout",
     "output_type": "stream",
     "text": [
      "1024\n"
     ]
    }
   ],
   "source": [
    "print(key_a.q.bit_length())"
   ]
  },
  {
   "attachments": {},
   "cell_type": "markdown",
   "id": "ea7318a4",
   "metadata": {},
   "source": [
    "Note here that a decimal number with a bit&ndash;length of 2048 (the default key size if none is specified in the `rsa.make_key` function) has approximately 620 digits, and that a decimal number with a bit&ndash;length of 1024 has approximately 310 digits.\n",
    "\n",
    "Next, we prove that `key_a.n` is in fact the product of `key_a.p` and `key_a.q`."
   ]
  },
  {
   "cell_type": "code",
   "execution_count": 9,
   "id": "41cc128c-cd29-44fd-be78-6406c9c2e771",
   "metadata": {},
   "outputs": [
    {
     "name": "stdout",
     "output_type": "stream",
     "text": [
      "True\n"
     ]
    }
   ],
   "source": [
    "print(key_a.p * key_a.q == key_a.n)"
   ]
  },
  {
   "attachments": {},
   "cell_type": "markdown",
   "id": "2d8903c0",
   "metadata": {},
   "source": [
    "Now it's Bob's turn to generate a keypair, and transmit his public key `key_b.n` to Alice (to differentiate Bob's keypair from Alice's, we name Bob's `key_b`)."
   ]
  },
  {
   "cell_type": "code",
   "execution_count": 10,
   "id": "90b4d371-da20-455d-a245-dc78f3bf190e",
   "metadata": {},
   "outputs": [],
   "source": [
    "# Bob computes his keypair, and transmits the public key (key_b.n) to Alice\n",
    "key_b = rsa.make_key()"
   ]
  },
  {
   "attachments": {},
   "cell_type": "markdown",
   "id": "11b60a44",
   "metadata": {},
   "source": [
    "Now that Alice and Bob have generated their respective keys, and transmitted to each other their public moduli `key_a.n` and `key_b.n`, they can proceed with the secure message exchange.\n",
    "\n",
    "Let's say Alice wants to send the following message securely to Bob. First, Alice stores the message \"Sign and encrypt me!\" in the variable $mA$."
   ]
  },
  {
   "cell_type": "code",
   "execution_count": 11,
   "id": "ea2adce8-c9d0-43e7-8201-589c6415bf07",
   "metadata": {},
   "outputs": [],
   "source": [
    "# Alice's message to Bob\n",
    "mA = \"Sign and encrypt me!\""
   ]
  },
  {
   "attachments": {},
   "cell_type": "markdown",
   "id": "c48800f4",
   "metadata": {},
   "source": [
    "Then Alice calls the `key_a.sign` method, passing it the message $mA$. She stores the signature in the variable $sA$."
   ]
  },
  {
   "cell_type": "code",
   "execution_count": 12,
   "id": "dd466c1d-509f-4a03-84e4-0c4fb8b9d313",
   "metadata": {},
   "outputs": [],
   "source": [
    "# Alice signs the message, and transmits the signature (sA) to Bob\n",
    "sA = key_a.sign(mA)"
   ]
  },
  {
   "attachments": {},
   "cell_type": "markdown",
   "id": "22fe32a2",
   "metadata": {},
   "source": [
    "Next, Alice calls the `key_a.encrypt_key` function, passing it Bob's public key `key_b.n`. This computes a session key that will be used to encrypt the private message using a symmetric cipher (e.g., _3DES_ or _AES_). The function returns the pair $KA$ and $cA$, which are, respectively, the symmetric encryption (or _session_) key, and the ciphertext of its input material; the same material Bob will use to recover the session key on his side of the channel."
   ]
  },
  {
   "cell_type": "code",
   "execution_count": 13,
   "id": "460f7d8b",
   "metadata": {},
   "outputs": [],
   "source": [
    "# Alice computes a session key, and transmits its ciphertext (cA) to Bob\n",
    "KA, cA = key_a.encrypt_key(key_b.n)"
   ]
  },
  {
   "attachments": {},
   "cell_type": "markdown",
   "id": "b2d24aba",
   "metadata": {},
   "source": [
    "Alice must keep the session key $KA$ private, but she transmits its ciphertext $cA$ to Bob.\n",
    "\n",
    "Next, Alice encrypts the private message, calling the `encrypt` function of the symmetric cipher, passing it her symmetric key $KA$ and the plaintext of her message $mA$. The result of this operation is the ciphertext $mAC$."
   ]
  },
  {
   "cell_type": "code",
   "execution_count": 14,
   "id": "ab63ee7e",
   "metadata": {},
   "outputs": [],
   "source": [
    "# Alice encrypts the message, and transmits its ciphertext (mAC) to Bob\n",
    "mAC = sym.encrypt(KA, mA)"
   ]
  },
  {
   "attachments": {},
   "cell_type": "markdown",
   "id": "0a90aa03",
   "metadata": {},
   "source": [
    "Here we print the ciphertext to demonstrate that, if Eve were to intercept it, she would see nothing but a seemingly random string of bytes."
   ]
  },
  {
   "cell_type": "code",
   "execution_count": 15,
   "id": "66dc97b4",
   "metadata": {},
   "outputs": [
    {
     "name": "stdout",
     "output_type": "stream",
     "text": [
      "b'%\\x0b%\\x8b\\x80s\\xd9l\\xe6WC\\x1d\\x84`\\x02E\\x97f\\x16]\\xcb\\x1f3\\xd4\\xc5z\\xfa\\xd8x\\xefU\\x8b'\n"
     ]
    }
   ],
   "source": [
    "print(mAC)"
   ]
  },
  {
   "attachments": {},
   "cell_type": "markdown",
   "id": "b48e2616",
   "metadata": {},
   "source": [
    "Next, Alice transmits the message signature $sA$, the message ciphertext $mAC$ and the ciphertext of the symmetric session key $cA$ to Bob.\n",
    "\n",
    "In order to decrypt the message, Bob must first recover the session key Alice used to encrypt it. He does this by calling  `key_b.decrypt_key`, passing it the ciphertext of the symmetric key $cA$ that Alice sent to him. Because Alice used Bob's public key `key_b.n` to encrypt her session key $KA$, Bob can recover the session key from $cA$ using his corresponding private key, which is hidden inside `key_b`."
   ]
  },
  {
   "cell_type": "code",
   "execution_count": 16,
   "id": "f82ac5c1",
   "metadata": {},
   "outputs": [],
   "source": [
    "# Bob recovers the session key from its ciphertext\n",
    "KB = key_b.decrypt_key(cA)"
   ]
  },
  {
   "attachments": {},
   "cell_type": "markdown",
   "id": "600f96cf",
   "metadata": {},
   "source": [
    "Here we prove that the key Bob decrypted above, $KB$, is the same as the key Alice computed, $KA$."
   ]
  },
  {
   "cell_type": "code",
   "execution_count": 17,
   "id": "8ef4fba6",
   "metadata": {},
   "outputs": [
    {
     "name": "stdout",
     "output_type": "stream",
     "text": [
      "True\n"
     ]
    }
   ],
   "source": [
    "print(KB == KA)"
   ]
  },
  {
   "attachments": {},
   "cell_type": "markdown",
   "id": "b80c6935",
   "metadata": {},
   "source": [
    "Bob calls `decrypt`, passing it $KB$ and the message ciphertext $mAC$ Alice sent to him, to recover Alice's plaintext message $mA$. He stores the result in $mB$."
   ]
  },
  {
   "cell_type": "code",
   "execution_count": 18,
   "id": "392b6673",
   "metadata": {},
   "outputs": [],
   "source": [
    "# Bob decrypts the message cipertext\n",
    "mB = sym.decrypt(KB, mAC)"
   ]
  },
  {
   "attachments": {},
   "cell_type": "markdown",
   "id": "b072394a",
   "metadata": {},
   "source": [
    "Here we prove that the recovered plaintext indeed matches Alice's original message."
   ]
  },
  {
   "cell_type": "code",
   "execution_count": 19,
   "id": "70e9aa88",
   "metadata": {},
   "outputs": [
    {
     "name": "stdout",
     "output_type": "stream",
     "text": [
      "True\n"
     ]
    }
   ],
   "source": [
    "print(mB == mA)"
   ]
  },
  {
   "attachments": {},
   "cell_type": "markdown",
   "id": "0bf6b4f6",
   "metadata": {},
   "source": [
    "If we print $mB$, we see that it matches Alice's message $mA$."
   ]
  },
  {
   "cell_type": "code",
   "execution_count": 20,
   "id": "d153e7f7",
   "metadata": {},
   "outputs": [
    {
     "name": "stdout",
     "output_type": "stream",
     "text": [
      "Sign and encrypt me!\n"
     ]
    }
   ],
   "source": [
    "print(mB)"
   ]
  },
  {
   "attachments": {},
   "cell_type": "markdown",
   "id": "ef053227",
   "metadata": {},
   "source": [
    "In order to complete the session, all that remains is for Bob to verify Alice's signature, and thereby prove that the message has not been altered and, further, that it originated from Alice (or, at least, that it was signed with Alice's private key).\n",
    "\n",
    "Bob calls the `key_b.verify` method, passing Alice's public modulus `key_a.n`, the decrypted message $mB$, and the sigature sent to him by Alice $sA$."
   ]
  },
  {
   "cell_type": "code",
   "execution_count": 21,
   "id": "7b25ce85",
   "metadata": {},
   "outputs": [
    {
     "name": "stdout",
     "output_type": "stream",
     "text": [
      "True\n"
     ]
    }
   ],
   "source": [
    "# Bob verifies the message signature\n",
    "print(key_b.verify(key_a.n, mB, sA))"
   ]
  },
  {
   "attachments": {},
   "cell_type": "markdown",
   "id": "8b876d41",
   "metadata": {},
   "source": [
    "If the assertion above holds, Bob can be assured that the message \"Sign and encrypt me!\", even if intercepted by Eve, can be read only to him and Alice, and that the message was not corrupted in any way by Eve."
   ]
  }
 ],
 "metadata": {
  "kernelspec": {
   "display_name": "Python 3.10.1 64-bit",
   "language": "python",
   "name": "python3"
  },
  "language_info": {
   "codemirror_mode": {
    "name": "ipython",
    "version": 3
   },
   "file_extension": ".py",
   "mimetype": "text/x-python",
   "name": "python",
   "nbconvert_exporter": "python",
   "pygments_lexer": "ipython3",
   "version": "3.10.1"
  },
  "vscode": {
   "interpreter": {
    "hash": "50fb02c2a046cc0ef8986c009ad4038835ac8c207cb3556a9dbc87a78dd42e4f"
   }
  }
 },
 "nbformat": 4,
 "nbformat_minor": 5
}
