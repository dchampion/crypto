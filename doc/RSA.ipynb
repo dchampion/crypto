{
 "cells": [
  {
   "attachments": {},
   "cell_type": "markdown",
   "id": "54bfb059",
   "metadata": {},
   "source": [
    "# A Demonstration of the RSA Cryptosystem\n",
    "\n",
    "The Rivest&ndash;Shamir&ndash;Adleman ([RSA](https://en.wikipedia.org/wiki/RSA_(cryptosystem))) cryptosystem demonstrated here combines secure key&ndash;exchange with digital signature to provide for the _confidentiality_, _integrity_ and _authenticity_ of a private message exchanged between two parties (Alice and Bob) over an insecure channel. Moreover, an adversary (Eve) listening on this channel has no practical way of learning the content of the message, nor any way of tampering with it without the receiving party knowing the message has been corrupted.\n",
    "\n",
    "The key&ndash;exchange component of this cryptosystem provides for message confidentiality utilizing a [_key&ndash;encapsulation mechanism_](https://en.wikipedia.org/wiki/Key_encapsulation_mechanism) (or _KEM_). This differs from more traditional approaches to key negotiation that utilize a key&ndash;_agreement_ mechanism, such as those based on the [discrete logarithm problem](https://en.wikipedia.org/wiki/Discrete_logarithm) introduced by Diffie and Hellman in their seminal 1976 paper [_New Directions in Cryptography_](https://ee.stanford.edu/~hellman/publications/24.pdf).\n",
    "\n",
    "The digital signature component of this cryptosystem provides for message integrity and authenticity, ideas that were conceived by Diffie and Hellman in their 1976 paper, but not implemented until Rivest, Shamir and Adleman published [_A Method for Obtaining Digital Signatures and Public&ndash;Key Cryptosystems_](https://people.csail.mit.edu/rivest/Rsapaper.pdf) in 1978.\n",
    "\n",
    "## The Source Code\n",
    "The following sequence of function calls to the [rsa](https://github.com/dchampion/crypto/tree/master/src/core/rsa.py) module illustrates a session in which Alice signs and encrypts a private message, and then transmits the message to Bob over an insecure channel. Meanwhile, an adversary (Eve) intercepts the message.\n",
    "\n",
    "It is assumed that Alice, Bob and Eve all possess their own copy of the [rsa](https://github.com/dchampion/crypto/tree/master/src/core/rsa.py) module; but that only Alice and Bob possess the signing and encryption keys produced by this module to provide the aforementioned protections.\n",
    "\n",
    "Alice and Bob both import the `rsa` module, and a module `sym` that implements a symmetric cipher they have agreed in advance will be used to encrypt and decrypt messages (the `sym` cipher used here is for illustrative purposes only, and in a real&ndash;world setting would be replaced with a cryptographically&ndash;strong symmetric cipher such as _3DES_ or _AES_)."
   ]
  },
  {
   "cell_type": "code",
   "execution_count": 1,
   "id": "74603aef",
   "metadata": {},
   "outputs": [],
   "source": [
    "import os\n",
    "os.chdir(\"../src\")\n",
    "\n",
    "# Alice and Bob (and possibly Eve) import the rsa and sym modules required for the session\n",
    "from core import rsa\n",
    "from tests.core import sym"
   ]
  },
  {
   "attachments": {},
   "cell_type": "markdown",
   "id": "842603d8",
   "metadata": {},
   "source": [
    "Alice begins by generating her RSA keys. She does this by calling the `generate_rsa_key` function, passing it a modulus size of 2048 bits. The function returns the quintuple $pA$, $qA$, $nA$, $d3A$ and $d5A$ (the suffix $A$ on all the parameters identify them as belonging to Alice). Then Alice transmits her public modulus $nA$ to Bob.\n"
   ]
  },
  {
   "cell_type": "code",
   "execution_count": 2,
   "id": "8537dcec",
   "metadata": {},
   "outputs": [],
   "source": [
    "# Alice computes her keys, and transmits the public key (nA) to Bob\n",
    "pA, qA, nA, d3A, d5A = rsa.generate_rsa_key(2048)"
   ]
  },
  {
   "attachments": {},
   "cell_type": "markdown",
   "id": "8b33731b",
   "metadata": {},
   "source": [
    "Alice must keep the values $pA$ and $qA$&mdash;the 1024&ndash;bit prime factors of $nA$&mdash;secret. She must also keep $d3A$ and $d5A$&mdash;her signing and decryption keys, respectively&mdash;secret.\n",
    "\n",
    "To get an idea of the size and proportions of these parameters, let's print some of them out."
   ]
  },
  {
   "cell_type": "code",
   "execution_count": 3,
   "id": "d285c70d-8e90-4a76-9eee-b8611fa2e44b",
   "metadata": {},
   "outputs": [
    {
     "name": "stdout",
     "output_type": "stream",
     "text": [
      "128747458866473454469019166401278224362187678248677750686346562091632709204420827710005237104936737933412199698451977573748327818980245315853937746634188026821721642801361705117705723622775417422192537243819767928367430706527268099995133404475833535030517939290847438754879143167517341040139809848700297711023\n"
     ]
    }
   ],
   "source": [
    "print(pA)"
   ]
  },
  {
   "cell_type": "code",
   "execution_count": 4,
   "id": "89735701-fab6-4f97-a1f5-4c27da1fafca",
   "metadata": {},
   "outputs": [
    {
     "name": "stdout",
     "output_type": "stream",
     "text": [
      "134522086056917158097123968368048612202105825006186846903489921319520083764748764055353003919566906269945164692274768186699597076406105799034906033973255200351924949210632619938866320210129223905432185021482398577596284984785451601608787844794249716038041573543419637350967832861475801949683861458262378982799\n"
     ]
    }
   ],
   "source": [
    "print(qA)"
   ]
  },
  {
   "cell_type": "code",
   "execution_count": 5,
   "id": "dd99c21f-e2a8-4453-b23a-7310e2156b76",
   "metadata": {},
   "outputs": [
    {
     "name": "stdout",
     "output_type": "stream",
     "text": [
      "17319376741245144029704515271514037431719084252261888863367140926529684779390987888625521455296371950721787106505539989635637378043616055272339140531613394989790623851945518086568717538409368027560958381031793280888036950815711952611324013001370981081588296795296005522947786750461270749207185645108212785871062949797068720897924371290680729895308053416668315139866520516846236973434834229645743241613338128788407691259215583929997876251317211213098296445132156156169445389378863677159652000886246514203711944464982735154860036420578561521064862161796997122566064355742340299229275781867987118368517657160682789693377\n"
     ]
    }
   ],
   "source": [
    "print(nA)"
   ]
  },
  {
   "attachments": {},
   "cell_type": "markdown",
   "id": "679da888",
   "metadata": {},
   "source": [
    "Note that $nA$, which is the product of $pA$ and $qA$, is twice the length of each individually; $pA$'s and $qA$'s ~310 digits to $nA$'s ~620.\n",
    "\n",
    "Recall that Alice requested a modulus of 2048 bits in length in her call to `generate_rsa_key`. Next, let's print the bit lengths of $nA$ and its prime factors."
   ]
  },
  {
   "cell_type": "code",
   "execution_count": 6,
   "id": "fc27b26c-1684-4348-9d39-b5166f711ec7",
   "metadata": {},
   "outputs": [
    {
     "name": "stdout",
     "output_type": "stream",
     "text": [
      "2048\n"
     ]
    }
   ],
   "source": [
    "print(nA.bit_length())"
   ]
  },
  {
   "cell_type": "code",
   "execution_count": 7,
   "id": "72ad6671-39de-4fb9-95b4-ea7a1fa53275",
   "metadata": {},
   "outputs": [
    {
     "name": "stdout",
     "output_type": "stream",
     "text": [
      "1024\n"
     ]
    }
   ],
   "source": [
    "print(pA.bit_length())"
   ]
  },
  {
   "cell_type": "code",
   "execution_count": 8,
   "id": "6c93ba61-9e62-4e6a-af4b-0d5a7be7703b",
   "metadata": {},
   "outputs": [
    {
     "name": "stdout",
     "output_type": "stream",
     "text": [
      "1024\n"
     ]
    }
   ],
   "source": [
    "print(qA.bit_length())"
   ]
  },
  {
   "attachments": {},
   "cell_type": "markdown",
   "id": "ea7318a4",
   "metadata": {},
   "source": [
    "What we see is that a decimal number with a bit&ndash;length of 2048 consists of ~620 digits, and that a decimal number with a bit length of 1024 consists of ~310 digits.\n",
    "\n",
    "Next, we prove that $nA$ is in fact the product of $pA$ and $qA$."
   ]
  },
  {
   "cell_type": "code",
   "execution_count": 9,
   "id": "41cc128c-cd29-44fd-be78-6406c9c2e771",
   "metadata": {},
   "outputs": [
    {
     "name": "stdout",
     "output_type": "stream",
     "text": [
      "True\n"
     ]
    }
   ],
   "source": [
    "print(qA * pA == nA)"
   ]
  },
  {
   "attachments": {},
   "cell_type": "markdown",
   "id": "2d8903c0",
   "metadata": {},
   "source": [
    "Now it's Bob's turn to generate RSA keys, and transmit his public key $nB$ to Alice. To differentiate Bob's keys from Alice's, we append Bob's with the captial letter $B$."
   ]
  },
  {
   "cell_type": "code",
   "execution_count": 10,
   "id": "90b4d371-da20-455d-a245-dc78f3bf190e",
   "metadata": {},
   "outputs": [],
   "source": [
    "# Bob computes his keys, and transmits the public key (nB) to Alice\n",
    "pB, qB, nB, d3B, d5B = rsa.generate_rsa_key(2048)"
   ]
  },
  {
   "attachments": {},
   "cell_type": "markdown",
   "id": "11b60a44",
   "metadata": {},
   "source": [
    "Now that Alice and Bob have generated their respective keys, and transmitted to each other their public moduli $nA$ and $nB$, they can proceed with the secure message exchange.\n",
    "\n",
    "Let's say Alice wants to send the following message securely to Bob. First, Alice stores the message \"Sign and encrypt me!\" in the variable $mA$."
   ]
  },
  {
   "cell_type": "code",
   "execution_count": 11,
   "id": "ea2adce8-c9d0-43e7-8201-589c6415bf07",
   "metadata": {},
   "outputs": [],
   "source": [
    "# Alice's message to Bob\n",
    "mA = \"Sign and encrypt me!\""
   ]
  },
  {
   "attachments": {},
   "cell_type": "markdown",
   "id": "c48800f4",
   "metadata": {},
   "source": [
    "Then Alice calls the `sign` fuction, passing it her secret signing key $d3A$, the two factors of $nA$, $pA$ and $qA$, and the message $mA$, to sign the message.\n",
    "She stores the signature in the variable $oA$."
   ]
  },
  {
   "cell_type": "code",
   "execution_count": 12,
   "id": "dd466c1d-509f-4a03-84e4-0c4fb8b9d313",
   "metadata": {},
   "outputs": [],
   "source": [
    "# Alice signs the message, and transmits the signature (oA) to Bob\n",
    "oA = rsa.sign(d3A, pA, qA, mA)"
   ]
  },
  {
   "attachments": {},
   "cell_type": "markdown",
   "id": "22fe32a2",
   "metadata": {},
   "source": [
    "Next, Alice calls the `encrypt_random_key` function, passing it Bob's RSA modulus $nB$ and the global encryption exponent _rsa.ENCRYPTION\\_EXPONENT_. This computes a session key that will be used to encrypt the private message using a symmetric cipher (e.g., _3DES_ or _AES_). The function returns the pair $KA$ and $cA$, which are, respectively, the symmetric encryption (or _session_) key, and the ciphertext of its input material; the same material Bob will use to replicate the session key on his side of the channel."
   ]
  },
  {
   "cell_type": "code",
   "execution_count": 13,
   "id": "460f7d8b",
   "metadata": {},
   "outputs": [],
   "source": [
    "# Alice computes a session key, and transmits its ciphertext (cA) to Bob\n",
    "KA, cA = rsa.encrypt_random_key(nB, rsa.ENCRYPTION_EXPONENT)"
   ]
  },
  {
   "attachments": {},
   "cell_type": "markdown",
   "id": "b2d24aba",
   "metadata": {},
   "source": [
    "Alice must keep the session key $KA$ private, but she transmits its ciphertext $cA$ to Bob.\n",
    "\n",
    "Next, Alice encrypts the private message, calling the `encrypt` function of the symmetric cipher, and passing it her symmetric key $KA$ and the plaintext of her message $mA$.\n",
    "\n",
    "The result of this operation is the ciphertext $mAC$."
   ]
  },
  {
   "cell_type": "code",
   "execution_count": 14,
   "id": "ab63ee7e",
   "metadata": {},
   "outputs": [],
   "source": [
    "# Alice encrypts the message, and transmits its ciphertext (mAC) to Bob\n",
    "mAC = sym.encrypt(KA, mA)"
   ]
  },
  {
   "attachments": {},
   "cell_type": "markdown",
   "id": "0a90aa03",
   "metadata": {},
   "source": [
    "Here we print the ciphertext to demonstrate that, if Eve were to intercept it, she would see nothing but a seemingly random string of numbers."
   ]
  },
  {
   "cell_type": "code",
   "execution_count": 15,
   "id": "66dc97b4",
   "metadata": {},
   "outputs": [
    {
     "name": "stdout",
     "output_type": "stream",
     "text": [
      "27893658004493771326973239368190066486150309808394860216549615758132348555127\n"
     ]
    }
   ],
   "source": [
    "print(mAC)"
   ]
  },
  {
   "attachments": {},
   "cell_type": "markdown",
   "id": "b48e2616",
   "metadata": {},
   "source": [
    "Next, Alice transmits the message signature $oA$, the message ciphertext $mAC$ and the ciphertext of the symmetric session key $cA$ to Bob.\n",
    "\n",
    "In order to decrypt the message, Bob must first recover the session key Alice used to encrypt it. He does this by calling  `decrypt_random_key`, passing it his private decryption key $d5B$, the ciphertext of the symmetric key that Alice sent to him $cA$, and the two prime factors of his public modulus $pB$ and $qB$."
   ]
  },
  {
   "cell_type": "code",
   "execution_count": 16,
   "id": "f82ac5c1",
   "metadata": {},
   "outputs": [],
   "source": [
    "# Bob recovers the session key from its ciphertext\n",
    "KB = rsa.decrypt_random_key(d5B, cA, pB, qB)"
   ]
  },
  {
   "attachments": {},
   "cell_type": "markdown",
   "id": "600f96cf",
   "metadata": {},
   "source": [
    "In order to decrypt the message, Bob must first recover the session key Alice used to encrypt it. He does this by calling  `decrypt_random_key`, passing it his private decryption key $d5B$, the ciphertext of the symmetric key that Alice sent to him $cA$, and the two prime factors of his public modulus $pB$ and $qB$.\n",
    "\n",
    "Here we prove that the key Bob decrypted above, $KB$, is the same as the key Alice computed, $KA$."
   ]
  },
  {
   "cell_type": "code",
   "execution_count": 17,
   "id": "8ef4fba6",
   "metadata": {},
   "outputs": [
    {
     "name": "stdout",
     "output_type": "stream",
     "text": [
      "True\n"
     ]
    }
   ],
   "source": [
    "print(KB == KA)"
   ]
  },
  {
   "attachments": {},
   "cell_type": "markdown",
   "id": "b80c6935",
   "metadata": {},
   "source": [
    "Bob calls `decrypt`, passing it $KB$ and the message ciphertext $mAC$ Alice sent to him, to recover Alice's plaintext message $mA$. He stores the result in $mB$."
   ]
  },
  {
   "cell_type": "code",
   "execution_count": 18,
   "id": "392b6673",
   "metadata": {},
   "outputs": [],
   "source": [
    "# Bob decrypts the message cipertext\n",
    "mB = sym.decrypt(KB, mAC)"
   ]
  },
  {
   "attachments": {},
   "cell_type": "markdown",
   "id": "b072394a",
   "metadata": {},
   "source": [
    "Here we prove that the recovered plaintext indeed matches Alice's original message."
   ]
  },
  {
   "cell_type": "code",
   "execution_count": 19,
   "id": "70e9aa88",
   "metadata": {},
   "outputs": [
    {
     "name": "stdout",
     "output_type": "stream",
     "text": [
      "True\n"
     ]
    }
   ],
   "source": [
    "print(mB == mA)"
   ]
  },
  {
   "attachments": {},
   "cell_type": "markdown",
   "id": "0bf6b4f6",
   "metadata": {},
   "source": [
    "If we print $mB$, we see that it matches Alice's message $mA$."
   ]
  },
  {
   "cell_type": "code",
   "execution_count": 20,
   "id": "d153e7f7",
   "metadata": {},
   "outputs": [
    {
     "name": "stdout",
     "output_type": "stream",
     "text": [
      "Sign and encrypt me!\n"
     ]
    }
   ],
   "source": [
    "print(mB)"
   ]
  },
  {
   "attachments": {},
   "cell_type": "markdown",
   "id": "ef053227",
   "metadata": {},
   "source": [
    "In order to complete the session, all that remains is for Bob to verify Alice's signature, and thereby prove that the message has not been altered and, further, that it originated from Alice (or, at least, that it was signed with Alice's private key).\n",
    "\n",
    "Bob calls the `verify` fuction, passing Alice's public modulus $nA$, the constant signature&ndash;verification key _rsa.VERIFICATION\\_EXPONENT_, the decrypted message $mB$ and the sigature sent to him by Alice $oA$.\n"
   ]
  },
  {
   "cell_type": "code",
   "execution_count": 21,
   "id": "7b25ce85",
   "metadata": {},
   "outputs": [
    {
     "name": "stdout",
     "output_type": "stream",
     "text": [
      "True\n"
     ]
    }
   ],
   "source": [
    "# Bob verifies the message signature\n",
    "print(rsa.verify(nA, rsa.VERIFICATION_EXPONENT, mB, oA))"
   ]
  },
  {
   "attachments": {},
   "cell_type": "markdown",
   "id": "8b876d41",
   "metadata": {},
   "source": [
    "If the assertion above holds, Bob can be assured that the message \"Sign and encrypt me!\", even if intercepted by Eve, is known only to him and Alice, and that the message was not corrupted in any way by Eve."
   ]
  }
 ],
 "metadata": {
  "kernelspec": {
   "display_name": "Python 3.10.1 64-bit",
   "language": "python",
   "name": "python3"
  },
  "language_info": {
   "codemirror_mode": {
    "name": "ipython",
    "version": 3
   },
   "file_extension": ".py",
   "mimetype": "text/x-python",
   "name": "python",
   "nbconvert_exporter": "python",
   "pygments_lexer": "ipython3",
   "version": "3.10.1"
  },
  "vscode": {
   "interpreter": {
    "hash": "50fb02c2a046cc0ef8986c009ad4038835ac8c207cb3556a9dbc87a78dd42e4f"
   }
  }
 },
 "nbformat": 4,
 "nbformat_minor": 5
}
