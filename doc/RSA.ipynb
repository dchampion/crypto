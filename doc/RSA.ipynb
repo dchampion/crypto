{
 "cells": [
  {
   "attachments": {},
   "cell_type": "markdown",
   "id": "54bfb059",
   "metadata": {},
   "source": [
    "# A Demonstration of the RSA Cryptosystem\n",
    "\n",
    "The Rivest&ndash;Shamir&ndash;Adleman ([RSA](https://en.wikipedia.org/wiki/RSA_\\(cryptosystem\\))) cryptosystem illustrated below combines secure key&ndash;exchange with digital signature to provide for the _confidentiality_, _integrity_ and _authenticity_ of a private message exchanged between two parties (Alice and Bob) over an insecure channel. Moreover, an adversary (Eve) listening on this channel has no practical way of learning the content of the message, nor any way of tampering with it without the receiving party knowing the message has been corrupted.\n",
    "\n",
    "The key&ndash;exchange component of this cryptosystem provides for message confidentiality utilizing a [_key&ndash;encapsulation mechanism_](https://en.wikipedia.org/wiki/Key_encapsulation_mechanism) (or _KEM_). This differs from more traditional approaches to key negotiation that utilize a key&ndash;_agreement_ mechanism, such as those based on the [discrete logarithm problem](https://en.wikipedia.org/wiki/Discrete_logarithm) introduced by Diffie and Hellman in their seminal 1976 paper [_New Directions in Cryptography_](https://ee.stanford.edu/~hellman/publications/24.pdf).\n",
    "\n",
    "The digital signature component of this cryptosystem provides for message integrity and authenticity, ideas that were conceived by Diffie and Hellman in their 1976 paper, but not realized until Rivest, Shamir and Adleman published [_A Method for Obtaining Digital Signatures and Public&ndash;Key Cryptosystems_](https://people.csail.mit.edu/rivest/Rsapaper.pdf) in 1978.\n",
    "\n",
    "### A Caveat\n",
    "Note that the procedure as demonstrated provides no guarantee as to the authenticity of either party; that is, that the participants Alice or Bob (or both) are who they claim to be (see [_man&ndash;in&ndash;the&ndash;middle_](https://en.wikipedia.org/wiki/Man-in-the-middle_attack) attack for elaboration). Nor does it guarantee that the shared key encrypted in the procedure cannot be decrypted by an adversary if the private key used to decrypt it is compromised at a future date (see [_forward secrecy_](https://en.wikipedia.org/wiki/Forward_secrecy) for elaboration). Protections against either vulnerability are not precluded by this implementation, but they are omitted here to minimize conceptual clutter.\n",
    "\n",
    "## The Procedure\n",
    "The following procedure, which utilizes the services of this repository's [rsa](https://github.com/dchampion/crypto/tree/master/src/core/rsa.py) module, illustrates a session in which Alice signs and encrypts a private message, and then transmits the message to Bob over an insecure channel. Meanwhile, an adversary (Eve) intercepts the message, but cannot feasibly learn its content, nor tamper with it without Bob detecting the message has been corrupted.\n",
    "\n",
    "It is assumed that Alice, Bob and Eve all possess their own copy of the [rsa](https://github.com/dchampion/crypto/tree/master/src/core/rsa.py) module; but that only Alice and Bob possess the signing and decryption keys produced by this module to provide the aforementioned protections.\n",
    "\n",
    "Alice and Bob start by importing the [rsa](https://github.com/dchampion/crypto/tree/master/src/core/rsa.py) module, and a module [sym](https://github.com/dchampion/crypto/tree/master/src/tests/core/sym.py) that implements a symmetric cipher they have agreed in advance will be used to encrypt and decrypt messages (the [sym](https://github.com/dchampion/crypto/tree/master/src/tests/core/sym.py) cipher used here is for illustrative purposes only, and in a real&ndash;world setting would be replaced with a cryptographically&ndash;strong symmetric cipher such as _3DES_ or _AES_)."
   ]
  },
  {
   "cell_type": "code",
   "execution_count": 1,
   "id": "74603aef",
   "metadata": {},
   "outputs": [],
   "source": [
    "import os\n",
    "os.chdir(\"../src\")\n",
    "\n",
    "# Alice and Bob (and Eve?) import the rsa and sym modules required for the session\n",
    "from core import rsa\n",
    "from tests.core import sym"
   ]
  },
  {
   "attachments": {},
   "cell_type": "markdown",
   "id": "842603d8",
   "metadata": {},
   "source": [
    "Alice begins by calling the `make_key()` function of the `rsa` module, which returns an `RSAKey` object representing an RSA keypair. She stores her keypair in `key_a` (the suffix `_a` identifies this keypair as belonging to Alice). Alice extracts and stores the public component of the keypair in `pub_key_a`."
   ]
  },
  {
   "cell_type": "code",
   "execution_count": 2,
   "id": "8537dcec",
   "metadata": {},
   "outputs": [],
   "source": [
    "# Alice computes her keypair, and stores her public key in pub_key_a\n",
    "key_a = rsa.make_key()\n",
    "pub_key_a = key_a.public_key()"
   ]
  },
  {
   "attachments": {},
   "cell_type": "markdown",
   "id": "8b33731b",
   "metadata": {},
   "source": [
    "Alice must keep the private components of her keypair secret. These are `key_a.p` and `key_a.q` (the prime factors of the public modulus `key_a.n`), `key_a.d3` (her signing key) and `key_a.d5` (her decryption key).\n",
    "\n",
    "Let's inspect the sizes of some of the crucial components of Alice's keypair."
   ]
  },
  {
   "cell_type": "code",
   "execution_count": 3,
   "id": "fc27b26c-1684-4348-9d39-b5166f711ec7",
   "metadata": {},
   "outputs": [
    {
     "data": {
      "text/plain": [
       "1024"
      ]
     },
     "execution_count": 3,
     "metadata": {},
     "output_type": "execute_result"
    }
   ],
   "source": [
    "key_a.p.bit_length()"
   ]
  },
  {
   "cell_type": "code",
   "execution_count": 4,
   "id": "72ad6671-39de-4fb9-95b4-ea7a1fa53275",
   "metadata": {},
   "outputs": [
    {
     "data": {
      "text/plain": [
       "1024"
      ]
     },
     "execution_count": 4,
     "metadata": {},
     "output_type": "execute_result"
    }
   ],
   "source": [
    "key_a.q.bit_length()"
   ]
  },
  {
   "cell_type": "code",
   "execution_count": 5,
   "id": "6c93ba61-9e62-4e6a-af4b-0d5a7be7703b",
   "metadata": {},
   "outputs": [
    {
     "data": {
      "text/plain": [
       "2048"
      ]
     },
     "execution_count": 5,
     "metadata": {},
     "output_type": "execute_result"
    }
   ],
   "source": [
    "key_a.modulus_size()"
   ]
  },
  {
   "attachments": {},
   "cell_type": "markdown",
   "id": "ea7318a4",
   "metadata": {},
   "source": [
    "Note that the size of the public modulus `n` is exactly twice that of its prime factors `p` and `q`.\n",
    "\n",
    "Further, we prove below that `n` is in fact the product of `p` and `q`. Note that `pub_key_a`, which Alice fetched previously from the method `key_a.public_key()`, is in fact the same value as `n`."
   ]
  },
  {
   "cell_type": "code",
   "execution_count": 6,
   "id": "41cc128c-cd29-44fd-be78-6406c9c2e771",
   "metadata": {},
   "outputs": [
    {
     "data": {
      "text/plain": [
       "True"
      ]
     },
     "execution_count": 6,
     "metadata": {},
     "output_type": "execute_result"
    }
   ],
   "source": [
    "key_a.p * key_a.q == key_a.n == pub_key_a"
   ]
  },
  {
   "attachments": {},
   "cell_type": "markdown",
   "id": "2d8903c0",
   "metadata": {},
   "source": [
    "Now it's Bob's turn to generate a keypair (to differentiate Bob's keypair from Alice's, we name Bob's `key_b`)."
   ]
  },
  {
   "cell_type": "code",
   "execution_count": 7,
   "id": "90b4d371-da20-455d-a245-dc78f3bf190e",
   "metadata": {},
   "outputs": [],
   "source": [
    "# Bob computes his keypair, and stores his public key in pub_key_b\n",
    "key_b = rsa.make_key()\n",
    "pub_key_b = key_b.public_key()"
   ]
  },
  {
   "attachments": {},
   "cell_type": "markdown",
   "id": "11b60a44",
   "metadata": {},
   "source": [
    "Now that Alice and Bob have generated their keypairs, they must transmit to each other their public keys `pub_key_a` and `pub_key_b`. Once they have done this, they can proceed with the secure message exchange.\n",
    "\n",
    "Suppose Alice wants to send the following message securely to Bob."
   ]
  },
  {
   "cell_type": "code",
   "execution_count": 8,
   "id": "ea2adce8-c9d0-43e7-8201-589c6415bf07",
   "metadata": {},
   "outputs": [],
   "source": [
    "# Alice's message to Bob\n",
    "mA = \"Sign and encrypt me!\""
   ]
  },
  {
   "attachments": {},
   "cell_type": "markdown",
   "id": "c48800f4",
   "metadata": {},
   "source": [
    "Alice first signs the message."
   ]
  },
  {
   "cell_type": "code",
   "execution_count": 9,
   "id": "dd466c1d-509f-4a03-84e4-0c4fb8b9d313",
   "metadata": {},
   "outputs": [],
   "source": [
    "# Alice signs the message, and stores the signature in sA\n",
    "sA = key_a.sign(mA)"
   ]
  },
  {
   "attachments": {},
   "cell_type": "markdown",
   "id": "22fe32a2",
   "metadata": {},
   "source": [
    "Next, Alice calls the `rsa` module function `encrypt_key()`, passing it Bob's public key. This computes a session key that will be used to encrypt the private message using a symmetric cipher (e.g., _3DES_ or _AES_).\n",
    "\n",
    "The function returns the pair `KA` and `cA`, which are, respectively, the symmetric encryption key, and the ciphertext of its input material; the same material Bob will use to recover the session key on his side of the channel."
   ]
  },
  {
   "cell_type": "code",
   "execution_count": 10,
   "id": "460f7d8b",
   "metadata": {},
   "outputs": [],
   "source": [
    "# Alice computes a session key and stores the plaintext version KA, and the ciphertext version in cA\n",
    "KA, cA = rsa.encrypt_key(pub_key_b)"
   ]
  },
  {
   "attachments": {},
   "cell_type": "markdown",
   "id": "b2d24aba",
   "metadata": {},
   "source": [
    "Alice must keep the session key `KA` private.\n",
    "\n",
    "Next, Alice encrypts the message, calling the `encrypt()` function of the symmetric cipher, passing the symmetric key and her message. The function returns the ciphertext of the message."
   ]
  },
  {
   "cell_type": "code",
   "execution_count": 11,
   "id": "ab63ee7e",
   "metadata": {},
   "outputs": [],
   "source": [
    "# Alice encrypts the message, and stores the ciphertext in mAC\n",
    "mAC = sym.encrypt(KA, mA)"
   ]
  },
  {
   "attachments": {},
   "cell_type": "markdown",
   "id": "0a90aa03",
   "metadata": {},
   "source": [
    "If we inspect the ciphertext, we see that to Eve it would appear as a random string of bytes bearing no resemblance to the original message."
   ]
  },
  {
   "cell_type": "code",
   "execution_count": 12,
   "id": "66dc97b4",
   "metadata": {},
   "outputs": [
    {
     "data": {
      "text/plain": [
       "b'\\xa8\\xc4p!\\x8c\\x91\\x1f`\\n\\xdb\\xf5\\xfe\\x06Q\\x0c\\x83i9$\\x84%\\xefTa\\xf1\\xec \\x8dV\\xfb@\\xdc'"
      ]
     },
     "execution_count": 12,
     "metadata": {},
     "output_type": "execute_result"
    }
   ],
   "source": [
    "mAC"
   ]
  },
  {
   "attachments": {},
   "cell_type": "markdown",
   "id": "b48e2616",
   "metadata": {},
   "source": [
    "Alice transmits the ciphertext of the message `mAC`, the ciphertext of the symmetric key `cA`, and the message signature `sA` to Bob.\n",
    "\n",
    "In order to decrypt the message, Bob must first decrypt the session key Alice used to encrypt it."
   ]
  },
  {
   "cell_type": "code",
   "execution_count": 13,
   "id": "f82ac5c1",
   "metadata": {},
   "outputs": [],
   "source": [
    "# Bob recovers the session key from its ciphertext\n",
    "KB = key_b.decrypt_key(cA)"
   ]
  },
  {
   "attachments": {},
   "cell_type": "markdown",
   "id": "600f96cf",
   "metadata": {},
   "source": [
    "Here we prove that the key Bob decrypted (`KB`), is the same as the key Alice computed (`KA`)."
   ]
  },
  {
   "cell_type": "code",
   "execution_count": 14,
   "id": "8ef4fba6",
   "metadata": {},
   "outputs": [
    {
     "data": {
      "text/plain": [
       "True"
      ]
     },
     "execution_count": 14,
     "metadata": {},
     "output_type": "execute_result"
    }
   ],
   "source": [
    "KB == KA"
   ]
  },
  {
   "attachments": {},
   "cell_type": "markdown",
   "id": "b80c6935",
   "metadata": {},
   "source": [
    "Bob calls the `decrypt()` function of the symmetric cipher, passing it the session key and the message ciphertext, to recover Alice's original plaintext."
   ]
  },
  {
   "cell_type": "code",
   "execution_count": 15,
   "id": "392b6673",
   "metadata": {},
   "outputs": [],
   "source": [
    "# Bob decrypts the message cipertext\n",
    "mB = sym.decrypt(KB, mAC)"
   ]
  },
  {
   "attachments": {},
   "cell_type": "markdown",
   "id": "b072394a",
   "metadata": {},
   "source": [
    "Here we prove that the recovered plaintext indeed matches Alice's original message."
   ]
  },
  {
   "cell_type": "code",
   "execution_count": 16,
   "id": "70e9aa88",
   "metadata": {},
   "outputs": [
    {
     "data": {
      "text/plain": [
       "'Sign and encrypt me!'"
      ]
     },
     "execution_count": 16,
     "metadata": {},
     "output_type": "execute_result"
    }
   ],
   "source": [
    "mB"
   ]
  },
  {
   "attachments": {},
   "cell_type": "markdown",
   "id": "ef053227",
   "metadata": {},
   "source": [
    "All that remains is for Bob to verify Alice's signature, and thereby prove that the message has not been altered and, further, that it originated from Alice (or, more precisely, that it was signed with Alice's private key)."
   ]
  },
  {
   "cell_type": "code",
   "execution_count": 17,
   "id": "7b25ce85",
   "metadata": {},
   "outputs": [
    {
     "data": {
      "text/plain": [
       "True"
      ]
     },
     "execution_count": 17,
     "metadata": {},
     "output_type": "execute_result"
    }
   ],
   "source": [
    "# Bob verifies the message signature\n",
    "rsa.verify(pub_key_a, mB, sA)"
   ]
  },
  {
   "attachments": {},
   "cell_type": "markdown",
   "id": "8b876d41",
   "metadata": {},
   "source": [
    "If the `rsa` module function `verify` returns `True`, Bob can be assured that the message \"Sign and encrypt me!\", even if intercepted by Eve, can be read only by him and Alice; and, further, that the message was not corrupted in any way by Eve."
   ]
  }
 ],
 "metadata": {
  "kernelspec": {
   "display_name": "Python 3.10.1 64-bit",
   "language": "python",
   "name": "python3"
  },
  "language_info": {
   "codemirror_mode": {
    "name": "ipython",
    "version": 3
   },
   "file_extension": ".py",
   "mimetype": "text/x-python",
   "name": "python",
   "nbconvert_exporter": "python",
   "pygments_lexer": "ipython3",
   "version": "3.10.1"
  },
  "vscode": {
   "interpreter": {
    "hash": "50fb02c2a046cc0ef8986c009ad4038835ac8c207cb3556a9dbc87a78dd42e4f"
   }
  }
 },
 "nbformat": 4,
 "nbformat_minor": 5
}
