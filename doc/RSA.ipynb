{
 "cells": [
  {
   "cell_type": "markdown",
   "id": "54bfb059",
   "metadata": {},
   "source": [
    "# A Demonstration of the RSA Cryptosystem\n",
    "\n",
    "The Rivest&ndash;Shamir&ndash;Adleman ([RSA](https://en.wikipedia.org/wiki/RSA_\\(cryptosystem\\)) cryptosystem demonstrated here combines secure key&ndash;exchange with digital signature to provide for the confidentiality, integrity and authenticity of a private message exchanged between two parties (Alice and Bob) over an insecure channel. Moreover, an adversary (Eve) listening on this channel has no practical way of learning the content of the message, nor any way of tampering with it without the receiving party knowing the message has been corrupted.\n",
    "\n",
    "The key&ndash;exchange component of this cryptosystem provides for message confidentiality utilizing a [*key&ndash;encapsulation mechanism*](https://en.wikipedia.org/wiki/Key_encapsulation_mechanism) (or *KEM*). This differs from more traditional approaches to key negotiation that utilize a key&ndash;*agreement* mechanism, such as those based on the [discrete logarithm problem](https://en.wikipedia.org/wiki/Discrete_logarithm) introduced by Diffie and Hellman in their seminal 1976 paper [*New Directions in Cryptography*](https://ee.stanford.edu/~hellman/publications/24.pdf).\n",
    "\n",
    "The digital signature component of this cryptosystem provides for message integrity and authenticity, ideas that were conceived by Diffie and Hellman in their 1976 paper, but not implemented until Rivest, Shamir and Adleman published [*A Method for Obtaining Digital Signatures and Public&ndash;Key Cryptosystems*](https://people.csail.mit.edu/rivest/Rsapaper.pdf) in 1978.\n",
    "\n",
    "## The Source Code\n",
    "The following sequence of function calls to the [rsa](https://github.com/dchampion/crypto/tree/master/src/rsa.py) module illustrates a session in which Alice signs and encrypts a private message, and then transmits the message to Bob over an insecure channel. Meanwhile, an adversary (Eve) intercepts the message.\n",
    "\n",
    "It is assumed that Alice, Bob and Eve all possess their own copy of the [rsa](https://github.com/dchampion/crypto/tree/master/src/rsa.py) module; but that only Alice and Bob possess the signing and encryption keys produced by this module to provide the aforementioned protections.\n",
    "\n",
    "At the top of each code snippet is a line&ndash;comment to indicate who (i.e., Alice, Bob and/or Eve) is invoking the code. Illustrative code snippets, i.e., those that are not part of the protocol, but rather merely informative, are not commented."
   ]
  },
  {
   "cell_type": "code",
   "execution_count": 1,
   "id": "74603aef",
   "metadata": {},
   "outputs": [],
   "source": [
    "# Alice and Bob (and possibly Eve)\n",
    "import path_resolver\n",
    "import rsa\n",
    "import sym"
   ]
  },
  {
   "cell_type": "markdown",
   "id": "842603d8",
   "metadata": {},
   "source": [
    "Alice and Bob both import the `rsa` module, and a module `sym` that implements a symmetric cipher they have agreed in advance will be used to encrypt and decrypt messages (the `sym` cipher used here is for illustrative purposes only, and in a real-world setting would be replaced with a cryptographically&ndash;strong symmetric cipher such as 3DES or AES)."
   ]
  },
  {
   "cell_type": "code",
   "execution_count": 2,
   "id": "8537dcec",
   "metadata": {},
   "outputs": [],
   "source": [
    "# Alice\n",
    "pA, qA, nA, d3A, d5A = rsa.generate_rsa_key(2048)"
   ]
  },
  {
   "cell_type": "markdown",
   "id": "8b33731b",
   "metadata": {},
   "source": [
    "Alice begins by generating her RSA keys. She does this by calling the `rsa.generate_rsa_key` function, passing it a modulus size of 2048 bits. The function returns the quintuple *pA*, *qA*, *nA*, *d3A* and *d5A* (the suffix *A* on all the parameters identify them as belonging to Alice). Alice transmits her public modulus *nA* to Bob.\n",
    "\n",
    "Alice must keep the values *pA* and *qA*&mdash;the 1024&ndash;bit prime factors of *nA*&mdash;secret. She must also keep *d3A* and *d5A*&mdash;her signing and decryption keys, respectively&mdash;secret.\n",
    "\n",
    "To get an idea of the size and proportions of these parameters, let's print some of them out."
   ]
  },
  {
   "cell_type": "code",
   "execution_count": 3,
   "id": "d285c70d-8e90-4a76-9eee-b8611fa2e44b",
   "metadata": {},
   "outputs": [
    {
     "name": "stdout",
     "output_type": "stream",
     "text": [
      "161723174362568810042157752975765604880083664404323245683810007636554611574105412633928862124481629993837185525109607257406789568159407244026491306413710465698197272220187730298028476113915847462268774858048543353490199062835351658299340464287977633796538569069237752541025310131971999803244724315279696107349\n"
     ]
    }
   ],
   "source": [
    "print(pA)"
   ]
  },
  {
   "cell_type": "code",
   "execution_count": 4,
   "id": "89735701-fab6-4f97-a1f5-4c27da1fafca",
   "metadata": {},
   "outputs": [
    {
     "name": "stdout",
     "output_type": "stream",
     "text": [
      "170959117562222024180518805658544186698247701140202023318390195081914114009858812378562092921257414769702343739553596304729126205710746644103716049666527897025012308880287131342075094327771096053416352781140849394250216346929388410892359740264474542507940315142257024094629389268304332146740081746595420184227\n"
     ]
    }
   ],
   "source": [
    "print(qA)"
   ]
  },
  {
   "cell_type": "code",
   "execution_count": 5,
   "id": "dd99c21f-e2a8-4453-b23a-7310e2156b76",
   "metadata": {},
   "outputs": [
    {
     "name": "stdout",
     "output_type": "stream",
     "text": [
      "27648051178386132063570442727853882064536053264583880554830418804583522621212958248499069455738144409730647590199569605073129066109373587350724517167228255556084985692183686624420431384932134181696683677223587902019508916365304960455070229503704645275869026763197389317256273731307421536841609450880364158407679110507298182581201690681026685513716774223542336123319371426339249598473783898574922497158789029000197658076994469600759209151895048834822105078063062872410806654748295583587945987227576374905985819876680438718949298262957153345058983463141402371489634089935492900865876879303801018599914438624316348584223\n"
     ]
    }
   ],
   "source": [
    "print(nA)"
   ]
  },
  {
   "cell_type": "markdown",
   "id": "679da888",
   "metadata": {},
   "source": [
    "Note that *nA*, which is the product of *pA* and *qA*, is twice the length of each individually; *pA*'s and *qA*'s ~310 digits to *nA*'s ~620.\n",
    "\n",
    "Recall that Alice requested a modulus of 2048 bits in length in her call to `rsa.generate_rsa_key`. Next, let's print the bit lengths of *nA* and its prime factors."
   ]
  },
  {
   "cell_type": "code",
   "execution_count": 6,
   "id": "fc27b26c-1684-4348-9d39-b5166f711ec7",
   "metadata": {},
   "outputs": [
    {
     "name": "stdout",
     "output_type": "stream",
     "text": [
      "2048\n"
     ]
    }
   ],
   "source": [
    "print(nA.bit_length())"
   ]
  },
  {
   "cell_type": "code",
   "execution_count": 7,
   "id": "72ad6671-39de-4fb9-95b4-ea7a1fa53275",
   "metadata": {},
   "outputs": [
    {
     "name": "stdout",
     "output_type": "stream",
     "text": [
      "1024\n"
     ]
    }
   ],
   "source": [
    "print(pA.bit_length())"
   ]
  },
  {
   "cell_type": "code",
   "execution_count": 8,
   "id": "6c93ba61-9e62-4e6a-af4b-0d5a7be7703b",
   "metadata": {},
   "outputs": [
    {
     "name": "stdout",
     "output_type": "stream",
     "text": [
      "1024\n"
     ]
    }
   ],
   "source": [
    "print(qA.bit_length())"
   ]
  },
  {
   "cell_type": "markdown",
   "id": "ea7318a4",
   "metadata": {},
   "source": [
    "What we see is that a decimal number of ~620 digits equates to a bit&ndash;length of 2048 (or possibly 2047 owing to implementation details), and further that a decimal number of ~310 digits equates to a bit length of 1024.\n",
    "\n",
    "Next, we prove that *nA* is in fact the product of *pA* and *qA*."
   ]
  },
  {
   "cell_type": "code",
   "execution_count": 9,
   "id": "41cc128c-cd29-44fd-be78-6406c9c2e771",
   "metadata": {},
   "outputs": [
    {
     "name": "stdout",
     "output_type": "stream",
     "text": [
      "True\n"
     ]
    }
   ],
   "source": [
    "print(qA * pA == nA)"
   ]
  },
  {
   "cell_type": "markdown",
   "id": "2d8903c0",
   "metadata": {},
   "source": [
    "Now it's Bob's turn to generate RSA keys, and transmit his public key *nB* to Alice. To differentiate Bob's keys from Alice's, we append Bob's with the captial letter *B*."
   ]
  },
  {
   "cell_type": "code",
   "execution_count": 10,
   "id": "90b4d371-da20-455d-a245-dc78f3bf190e",
   "metadata": {},
   "outputs": [],
   "source": [
    "# Bob\n",
    "pB, qB, nB, d3B, d5B = rsa.generate_rsa_key(2048)"
   ]
  },
  {
   "cell_type": "markdown",
   "id": "11b60a44",
   "metadata": {},
   "source": [
    "Now that Alice and Bob have generated their keys, and transmitted to each other their public moduli *nA* and *nB*, they can proceed with the secure message exchange.\n",
    "\n",
    "Let's say Alice wants to send the following message securely to Bob."
   ]
  },
  {
   "cell_type": "code",
   "execution_count": 11,
   "id": "ea2adce8-c9d0-43e7-8201-589c6415bf07",
   "metadata": {},
   "outputs": [],
   "source": [
    "# Alice\n",
    "mA = \"Sign and encrypt me!\""
   ]
  },
  {
   "cell_type": "markdown",
   "id": "c48800f4",
   "metadata": {},
   "source": [
    "First, Alice stores the message \"Sign and encrypt me!\" in the variable `mA`."
   ]
  },
  {
   "cell_type": "code",
   "execution_count": 12,
   "id": "dd466c1d-509f-4a03-84e4-0c4fb8b9d313",
   "metadata": {},
   "outputs": [],
   "source": [
    "# Alice\n",
    "oA = rsa.sign(d3A, pA, qA, mA)"
   ]
  },
  {
   "cell_type": "markdown",
   "id": "22fe32a2",
   "metadata": {},
   "source": [
    "Then Alice calls the `rsa.sign` fuction, passing it her secret signing key *d3A*, the two factors of *nA*, *pA* and *qA*, and the message *mA*, to sign the message.\n",
    "\n",
    "She stores the signature in the variable *oA*."
   ]
  },
  {
   "cell_type": "code",
   "execution_count": 13,
   "id": "460f7d8b",
   "metadata": {},
   "outputs": [],
   "source": [
    "# Alice\n",
    "KA, cA = rsa.encrypt_random_key(nB, rsa.ENCRYPTION_EXPONENT)"
   ]
  },
  {
   "cell_type": "markdown",
   "id": "b2d24aba",
   "metadata": {},
   "source": [
    "Next, Alice calls the `rsa.encrypt_random_key` function, passing it Bob's RSA modulus *nB* and the global encryption exponent *rsa.ENCRYPTION_EXPONENT*. This computes a session key that will be used to encrypt the private message using a symmetric cipher (e.g., 3DES, AES). The function returns the pair *KA* and *cA*, which are, respectively, the symmetric encryption (or *session*) key, and the ciphertext of its input material; the same material Bob will use to replicate the session key on his side of the channel.\n",
    "\n",
    "Alice must keep the session key *KA* private, but she transmits its ciphertext *cA* to Bob."
   ]
  },
  {
   "cell_type": "code",
   "execution_count": 14,
   "id": "ab63ee7e",
   "metadata": {},
   "outputs": [],
   "source": [
    "# Alice\n",
    "mAC = sym.encrypt(KA, mA)"
   ]
  },
  {
   "cell_type": "markdown",
   "id": "0a90aa03",
   "metadata": {},
   "source": [
    "Next, Alice encrypts the private message, calling the symmetric cipher function `sym.encrypt` and passing it her symmetric key *KA* and the plaintext of her message *mA*.\n",
    "\n",
    "The result of this operation is the ciphertext *mAC*."
   ]
  },
  {
   "cell_type": "code",
   "execution_count": 15,
   "id": "66dc97b4",
   "metadata": {},
   "outputs": [
    {
     "name": "stdout",
     "output_type": "stream",
     "text": [
      "75068364069458143276283550587077250286736124272242672309325815988818318105370\n"
     ]
    }
   ],
   "source": [
    "print(mAC)"
   ]
  },
  {
   "cell_type": "markdown",
   "id": "b48e2616",
   "metadata": {},
   "source": [
    "Here we print the ciphertext to demonstrate that, if Eve were to intercept it, she will see nothing but a seemingly random string of numbers.\n",
    "\n",
    "Next, Alice transmits the message signature *oA*, the message ciphertext *mAC* and the ciphertext of the symmetric session key *cA* to Bob."
   ]
  },
  {
   "cell_type": "code",
   "execution_count": 16,
   "id": "f82ac5c1",
   "metadata": {},
   "outputs": [],
   "source": [
    "# Bob\n",
    "KB = rsa.decrypt_random_key(d5B, cA, pB, qB)"
   ]
  },
  {
   "cell_type": "markdown",
   "id": "600f96cf",
   "metadata": {},
   "source": [
    "In order to decrypt the message, Bob must first recover the session key Alice used to encrypt it. He does this by calling  `rsa.decrypt_random_key`, passing it his private decryption key *d5B*, the ciphertext of the symmetric key that Alice sent to him *cA*, and the two prime factors of his public modulus *pB* and *qB*."
   ]
  },
  {
   "cell_type": "code",
   "execution_count": 17,
   "id": "8ef4fba6",
   "metadata": {},
   "outputs": [
    {
     "name": "stdout",
     "output_type": "stream",
     "text": [
      "True\n"
     ]
    }
   ],
   "source": [
    "print(KB == KA)"
   ]
  },
  {
   "cell_type": "markdown",
   "id": "b80c6935",
   "metadata": {},
   "source": [
    "Here we prove that the key Bob decrypted above, *KB*, is the same as the key Alice encrypted, *KA*."
   ]
  },
  {
   "cell_type": "code",
   "execution_count": 18,
   "id": "392b6673",
   "metadata": {},
   "outputs": [],
   "source": [
    "# Bob\n",
    "mB = sym.decrypt(KB, mAC)"
   ]
  },
  {
   "cell_type": "markdown",
   "id": "b072394a",
   "metadata": {},
   "source": [
    "Bob calls `sym.decrypt`, passing it *KB* and the message ciphertext *mAC* Alice sent to him, to recover Alice's plaintext message *mA*. He stores the result in *mB*."
   ]
  },
  {
   "cell_type": "code",
   "execution_count": 19,
   "id": "70e9aa88",
   "metadata": {},
   "outputs": [
    {
     "name": "stdout",
     "output_type": "stream",
     "text": [
      "True\n"
     ]
    }
   ],
   "source": [
    "print(mB == mA)"
   ]
  },
  {
   "cell_type": "markdown",
   "id": "0bf6b4f6",
   "metadata": {},
   "source": [
    "Here we prove that the recovered plaintext indeed matches Alice's original message."
   ]
  },
  {
   "cell_type": "code",
   "execution_count": 20,
   "id": "d153e7f7",
   "metadata": {},
   "outputs": [
    {
     "name": "stdout",
     "output_type": "stream",
     "text": [
      "Sign and encrypt me!\n"
     ]
    }
   ],
   "source": [
    "print(mB)"
   ]
  },
  {
   "cell_type": "markdown",
   "id": "ef053227",
   "metadata": {},
   "source": [
    "Let's print the message, just to make sure.\n",
    "\n",
    "In order to complete the session, all that remains is for Bob to verify Alice's signature, and thereby prove that the message has not been altered and, further, that it originated from Alice (or, at least, that it was signed with Alice's private key)."
   ]
  },
  {
   "cell_type": "code",
   "execution_count": 21,
   "id": "7b25ce85",
   "metadata": {},
   "outputs": [
    {
     "name": "stdout",
     "output_type": "stream",
     "text": [
      "True\n"
     ]
    }
   ],
   "source": [
    "# Bob\n",
    "print(rsa.verify(nA, rsa.VERIFICATION_EXPONENT, mB, oA))"
   ]
  },
  {
   "cell_type": "markdown",
   "id": "8b876d41",
   "metadata": {},
   "source": [
    "Bob calls the `rsa.verify` fuction, passing Alice's public modulus *nA*, the constant signature&ndash;verification key *rsa.VERIFICATION_EXPONENT*, the decrypted message *mB* and the sigature sent to him by Alice *oA*.\n",
    "\n",
    "If the assertion above holds, Bob can be assured that the message \"Sign and encrypt me!\", even if intercepted by Eve, is known only to him and Alice, and that the message was not corrupted in any way by Eve."
   ]
  }
 ],
 "metadata": {
  "interpreter": {
   "hash": "aee8b7b246df8f9039afb4144a1f6fd8d2ca17a180786b69acc140d282b71a49"
  },
  "kernelspec": {
   "display_name": "Python 3.10.1 64-bit",
   "language": "python",
   "name": "python3"
  },
  "language_info": {
   "codemirror_mode": {
    "name": "ipython",
    "version": 3
   },
   "file_extension": ".py",
   "mimetype": "text/x-python",
   "name": "python",
   "nbconvert_exporter": "python",
   "pygments_lexer": "ipython3",
   "version": "3.10.1"
  },
  "vscode": {
   "interpreter": {
    "hash": "50fb02c2a046cc0ef8986c009ad4038835ac8c207cb3556a9dbc87a78dd42e4f"
   }
  }
 },
 "nbformat": 4,
 "nbformat_minor": 5
}
