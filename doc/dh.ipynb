{
 "cells": [
  {
   "cell_type": "markdown",
   "id": "a2ca16f6-7cbc-459b-85cf-e8aa1bbbda13",
   "metadata": {},
   "source": [
    "# A Demonstration of the Diffie&ndash;Hellman Key Agreement Protocol\n",
    "The Diffie&ndash;Hellman protocol presented below demonstrates a confidential message exchange between two parties&mdash;Alice and Bob&mdash;over an insecure channel. Further, a third party&mdash;Eve&mdash;who intercepts the message encrypted using this protocol, has no feasible way of learning its content.\n",
    "\n",
    "Diffie and Hellman first introduced this protocol in 1976, in their seminal paper [*New Directions in Cryptography*](https://ee.stanford.edu/~hellman/publications/24.pdf). In it, the authors imagined a novel cryptosystem in which a publicly&ndash;known key could be used to encrypt a message that only the holder of a private key could decrypt, thereby solving a problem that bedeviled all previously known ciphers; that of exchanging encryption keys *securely* between trusted parties. Such a *public&ndash;key* cryptosystem could further be employed to guarantee message authenticity (a property that encryption alone could not), via a process they called *digital signature*.\n",
    "\n",
    "Although Diffie and Hellman fell short of presenting a practical implementation for such a cryptosystem, they laid the critical groundwork for it (it would fall to Rivest, Shamir and Adlemen to flesh it out in their 1978 paper [*A Method for Obtaining Digital Signatures and Public&ndash;Key Cryptosystems*](https://people.csail.mit.edu/rivest/Rsapaper.pdf)).\n",
    "\n",
    "Diffie and Hellman did, however, leave us with a very important, practical contribution; a protocol for secure key&ndash;exchange that remains to this day the de facto method of exchanging keys over insecure channels. The method is based on a one&ndash;way function that pits the difficulty of solving the *discrete logarithm problem* (or *DLP*) in large&ndash;order [multiplicative integer groups](https://en.wikipedia.org/wiki/Multiplicative_group) against the ease of multiplying integers in such groups.\n",
    "\n",
    "This protocol is demonstrated in the sections that follow.\n",
    "\n",
    "## The Source Code\n",
    "The following sequence of function calls to the `dh` module (located in the [/src](https://github.com/dchampion/crypto/tree/master/code/src) directory of this repository) illustrates a session in which Alice encrypts a private message, and then transmits it to Bob over an insecure channel. Meanwhile, Eve&mdash;a passive adversary&mdash;intercepts the message transmitted on the insecure channel.\n",
    "\n",
    "It is assumed that Alice, Bob and Eve all possess their own copy of the `dh` module; but that only Alice and Bob possess their own private keys, and also a shared encryption key each generates using their private keys as input. Eve, not having access to either Alice's or Bob's private keys, therefore cannot feasibly derive the session key Alice uses to encrypt the message she sends to Bob, thereby preventing Eve from learning the contents of the message.\n",
    "\n",
    "Values below surrounded in square brackets [ ] are public (i.e., they can be transmitted over the insecure channel with no compromise to the security of the system, even if they are observed by Eve), and those that are not in square brackets are private (i.e., they must not be transmitted over the insecure channel).\n",
    "\n",
    "Explanations of behavior appear below the code snippets and their outputs."
   ]
  },
  {
   "cell_type": "code",
   "execution_count": 1,
   "id": "8763f550-87bf-454f-91ad-aa06bddcdbc3",
   "metadata": {},
   "outputs": [],
   "source": [
    "import sys\n",
    "sys.path.append(\"../code/src\")\n",
    "import dh\n",
    "sys.path.append(\"../code/test\")\n",
    "import sym"
   ]
  },
  {
   "cell_type": "markdown",
   "id": "c521359c-001f-44df-8635-cab90851e1cb",
   "metadata": {},
   "source": [
    "Import the `dh` module, and a module `sym` that implements an elementary symmetric cipher that Alice and Bob will use in the protocol."
   ]
  },
  {
   "cell_type": "code",
   "execution_count": 2,
   "id": "577e6146-ff52-44f5-ae5a-e7a8de9b2cbf",
   "metadata": {},
   "outputs": [],
   "source": [
    "q, p, g = dh.generate_parameters(dh.min_p_bit_len)"
   ]
  },
  {
   "cell_type": "markdown",
   "id": "ef86f04d-b7c5-4f41-9f50-adce7b0eb88c",
   "metadata": {},
   "source": [
    "The protocol begins with Alice computing the domain parameters she and Bob will use to set up a session in which Alice can safely transmit an encrypted message to Bob.\n",
    "\n",
    "The argument `dh.min_p_bit_len` passed to the function `dh.generate_parameters` specifies the size, in bits, of the modulus to be used in the protocol; the security of the system is directly proportional to the size of this modulus (`dh.min_p_bit_len` is an integer constant whose value is `2048`).\n",
    "\n",
    "The parameter *[p]* returned by `dh.generate_parameters` is the modulus (a prime number). *[q]* (also a prime number) is the size of the smallest subgroup of the full group modulo *[p]*; the subgroup within which the public keys (to be generated in a subsequent step) must fall. And *[g]* is the generator of this subgroup.\n",
    "\n",
    "All three parameters returned by this function are public, and may be observed by Eve with no compormise to the security of the system."
   ]
  },
  {
   "cell_type": "code",
   "execution_count": 3,
   "id": "793bfa48-8b27-45ae-b4da-f264e5de44ee",
   "metadata": {},
   "outputs": [
    {
     "name": "stdout",
     "output_type": "stream",
     "text": [
      "2048\n",
      "256\n"
     ]
    }
   ],
   "source": [
    "print(p.bit_length())\n",
    "print(q.bit_length())"
   ]
  },
  {
   "cell_type": "markdown",
   "id": "7c03adf2-e05e-467f-b991-c54b339c594c",
   "metadata": {},
   "source": [
    "Here we print the bit lengths of the first two parameters returned by `dh.generate_parameters`. Note that the length of *[p]*, the  modulus, is in fact the `2048` bits requested. The bit length of *[q]* (`256`) represents the size of smallest subgroup of the full group modulo *[p]*.\n",
    "\n",
    "We are not particularly interested in the bit&ndash;length of the generator *[g]*, but rather that it will generate the entire subgroup represented by *[q]*. We prove this by calling the function `dh._validate_parameters`."
   ]
  },
  {
   "cell_type": "code",
   "execution_count": 4,
   "id": "1d696592-8a90-40f5-8086-c95a97c672d3",
   "metadata": {},
   "outputs": [],
   "source": [
    "dh._validate_parameters(q, p, g)"
   ]
  },
  {
   "cell_type": "markdown",
   "id": "7eabca88-f34a-45ce-9ec7-7bc755a5cf23",
   "metadata": {},
   "source": [
    "If this function does not a raise an exception, we know the parameters are suitable to generate keys to be used for a secure message exchange."
   ]
  },
  {
   "cell_type": "code",
   "execution_count": 5,
   "id": "33d87547-6054-4e8e-91cc-63bc67e61ad6",
   "metadata": {},
   "outputs": [],
   "source": [
    "kA, KA = dh.generate_keypair(q, p, g)"
   ]
  },
  {
   "cell_type": "markdown",
   "id": "fc7613a7-b990-41d0-a5d6-d86788a36435",
   "metadata": {},
   "source": [
    "Alice now computes a pair of keys; *kA* is her private key, and *[KA]* her public key (the keys are suffixed with the captital letter *A* to indicate that they belong to Alice).\n",
    "\n",
    "Alice transmits the domain parameters *[p]*, *[q]*, *[g]*, and her public key *[KA]*, to Bob.\n",
    "\n",
    "Then Bob calls the same function Alice did above to validate the domain parameters, and another function `dh.validate_pub_key` to validate Alice's public key *[KA]*."
   ]
  },
  {
   "cell_type": "code",
   "execution_count": 6,
   "id": "38d04c06-a887-4792-b49e-69ba75e8c9d7",
   "metadata": {},
   "outputs": [],
   "source": [
    "dh._validate_parameters(q, p, g)\n",
    "dh.validate_pub_key(KA, q, p)"
   ]
  },
  {
   "cell_type": "markdown",
   "id": "80f3844f-11e9-454b-b50c-106e198aa6d5",
   "metadata": {},
   "source": [
    "If neither function raises an exception, Bob knows that the domain parameters and Alice's public key are all valid, and can therefore safely proceed with the protocol."
   ]
  },
  {
   "cell_type": "code",
   "execution_count": 7,
   "id": "a2e6f1c7-bf65-4678-b955-6362c2893e0e",
   "metadata": {},
   "outputs": [],
   "source": [
    "kB, KB = dh.generate_keypair(q, p, g)"
   ]
  },
  {
   "cell_type": "markdown",
   "id": "0d2857f7-f8b8-4774-8966-6dc7aa264f4f",
   "metadata": {},
   "source": [
    "Using the domain parameters Alice sent him, Bob now computes a key pair of his own (storing them in the variables *kB* and *[KB]*).\n",
    "\n",
    "Bob transmits his public key *[KB]* to Alice."
   ]
  },
  {
   "cell_type": "code",
   "execution_count": 8,
   "id": "b1e82a20-1e67-4f22-9222-72dfeb16c320",
   "metadata": {},
   "outputs": [],
   "source": [
    "dh.validate_pub_key(KB, q, p)"
   ]
  },
  {
   "cell_type": "markdown",
   "id": "faa8b9e0-04a5-4d60-96f9-fcb9b8aa0c2c",
   "metadata": {},
   "source": [
    "On receiving Bob's public key *[KB]*, Alice must validate it in the same way Bob validated Alice's public key."
   ]
  },
  {
   "cell_type": "code",
   "execution_count": 9,
   "id": "300471e1-0929-4b54-91a2-f9984080371f",
   "metadata": {},
   "outputs": [],
   "source": [
    "kSessionA = dh.generate_session_key(KB, kA, p)"
   ]
  },
  {
   "cell_type": "markdown",
   "id": "365d3bad-cfee-4064-af5d-41e89e09be28",
   "metadata": {},
   "source": [
    "Now Alice computes the session key that will be used to encrypt the message she will transmit to Bob.\n",
    "\n",
    "To do this, she calls the function `dh.generate_session_key`, passing it Bob's public key *[KB]*, Alice's private key *kA* and the modulus *[p]*.\n",
    "\n",
    "Basically, all this function does is multiply Bob's public key *[KB]* by Alice's private key *kA* to produce an exponent, and then raise the the generator *[g]* to the power of this exponent modulo *[p]*."
   ]
  },
  {
   "cell_type": "code",
   "execution_count": 10,
   "id": "24040a77-5413-4ec9-be2f-a4540c2e6848",
   "metadata": {},
   "outputs": [],
   "source": [
    "kSessionB = dh.generate_session_key(KA, kB, p)"
   ]
  },
  {
   "cell_type": "markdown",
   "id": "1b6781c5-b953-4e46-a876-d6d5074cbebe",
   "metadata": {},
   "source": [
    "Bob calls the same function Alice did to compute a session key of his own, only in Bob's case he passes Alice's public key *[KA]* and his private key *kB* to `dh.generate_session_key`.\n",
    "\n",
    "As in Alice's case, the function multiplies Alice's public key *[KA]* by Bob's private key *kB* to produce an exponent, and raises *[g]* to the power of this exponent modulo *[p]*.\n",
    "\n",
    "Herein lies the essential property of DH. The product of *[KA]* x *kB* is equal the product of *[KB]* x *kA*, thus producing identical exponents to which Alice and Bob raise the generator *[g]* to compute identical session keys, *kSessionA* and *kSessionB*.\n",
    "\n",
    "Where does this leave Eve? Having only seen *[KA]* and *[KB]*, Eve cannot from these values alone easily determine the value of the exponent used in the computation of the session key (i.e., solve the discrete logarithm problem). This is the *one&ndash;way* function that is the essence of DH.\n",
    "\n",
    "As with all traditional ciphers, the key Alice uses to encrypt the message is the same one Bob uses to decrypt it. The difference here is that encryption is not predicated on a secure *exchange* of keys; rather, the keys are derived independently by Alice and Bob, and never transmitted over the insecure channel. Because of this, it is perhaps more apt to describe DH as a key *agreement* protocol rather than a key *exchange* protocol."
   ]
  },
  {
   "cell_type": "code",
   "execution_count": 11,
   "id": "d7b2147b-6f8d-4a46-a1a1-95cee2d25256",
   "metadata": {},
   "outputs": [
    {
     "name": "stdout",
     "output_type": "stream",
     "text": [
      "True\n"
     ]
    }
   ],
   "source": [
    "print(kSessionA == kSessionB)"
   ]
  },
  {
   "cell_type": "markdown",
   "id": "213ed289-d9f7-41eb-a55a-71fb909618c6",
   "metadata": {},
   "source": [
    "If the essential property of DH holds, both keys&mdash;*kSessionA* and *kSessionB*&mdash;must be equivalent."
   ]
  },
  {
   "cell_type": "code",
   "execution_count": 12,
   "id": "4eec7802-5727-451f-9f3c-0f50c0293391",
   "metadata": {},
   "outputs": [],
   "source": [
    "mA = \"Encrypt me!\""
   ]
  },
  {
   "cell_type": "markdown",
   "id": "fdcc1589-ddd2-41b7-b67f-361d91d4f984",
   "metadata": {},
   "source": [
    "Now, Alice composes a message for Bob, and stores it in the variable *mA*."
   ]
  },
  {
   "cell_type": "code",
   "execution_count": 13,
   "id": "d03e3158-ca78-4699-bec3-d8a467bd7e47",
   "metadata": {},
   "outputs": [],
   "source": [
    "mAC = sym.encrypt(kSessionA, mA)"
   ]
  },
  {
   "cell_type": "markdown",
   "id": "2f01932d-35cb-4416-ad2a-710ce78d6bba",
   "metadata": {},
   "source": [
    "Alice must now encrypt the message. She does this by calling the function `sym.encrypt`, passing it her session key *kSessionA* and the plaintext of her message *mA*. The function returns the ciphertext of *mA*, *[mAC]*.\n",
    "\n",
    "Alice transmits the ciphertext *[mAC]* to Bob over the insecure channel."
   ]
  },
  {
   "cell_type": "code",
   "execution_count": 14,
   "id": "42e51f66-27d5-44f0-81b0-fce581222710",
   "metadata": {},
   "outputs": [],
   "source": [
    "mB = sym.decrypt(kSessionB, mAC)"
   ]
  },
  {
   "cell_type": "markdown",
   "id": "f7126aa2-e211-49d5-8577-23414291f4fe",
   "metadata": {},
   "source": [
    "Bob, having received the ciphertext *[mAC]* from Alice, decrypts it by calling the function `sym.decrypt`, passing it his session key *kSessionB* and the ciphertext *[mAC]*. The result *mB* should be the plaintext of Alice's original message *mA*."
   ]
  },
  {
   "cell_type": "code",
   "execution_count": 15,
   "id": "760e02ea-4ff5-4962-bf8d-a72f346264ce",
   "metadata": {},
   "outputs": [
    {
     "name": "stdout",
     "output_type": "stream",
     "text": [
      "Encrypt me!\n"
     ]
    }
   ],
   "source": [
    "print(mB)"
   ]
  },
  {
   "cell_type": "markdown",
   "id": "8073f5f8-1c09-4125-978e-0404bf604646",
   "metadata": {},
   "source": [
    "Here we print *mB*, proving that Bob has successfully recovered the plaintext of Alice's message.\n",
    "\n",
    "Finally, Eve, having observed the domain parameters *[p]*, *[q]* and *[g]*; and Alice's and Bob's public keys *[KA]* and *[KB]*, on the insecure channel, has no feasible way of deriving the session key *kSessionA* (or *kSessionB*). Without the session key, Eve cannot decrypt the message."
   ]
  }
 ],
 "metadata": {
  "kernelspec": {
   "display_name": "Python 3 (ipykernel)",
   "language": "python",
   "name": "python3"
  },
  "language_info": {
   "codemirror_mode": {
    "name": "ipython",
    "version": 3
   },
   "file_extension": ".py",
   "mimetype": "text/x-python",
   "name": "python",
   "nbconvert_exporter": "python",
   "pygments_lexer": "ipython3",
   "version": "3.10.1"
  }
 },
 "nbformat": 4,
 "nbformat_minor": 5
}
